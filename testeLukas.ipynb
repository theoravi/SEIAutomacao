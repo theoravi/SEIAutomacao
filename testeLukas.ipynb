{
 "cells": [
  {
   "cell_type": "code",
   "execution_count": 1,
   "metadata": {},
   "outputs": [],
   "source": [
    "import numpy as np\n",
    "import pandas as pd\n",
    "import time\n",
    "import tkinter as tk\n",
    "from openpyxl import load_workbook\n",
    "import undetected_chromedriver as uc\n",
    "from selenium.webdriver.chrome.service import Service\n",
    "from selenium.webdriver.common.keys import Keys\n",
    "from selenium.webdriver.support.ui import Select\n",
    "from selenium.common.exceptions import NoSuchElementException\n",
    "from selenium.common.exceptions import TimeoutException\n",
    "from selenium.webdriver.support.ui import WebDriverWait\n",
    "from selenium.webdriver.support import expected_conditions as EC\n",
    "from selenium.webdriver.common.alert import Alert\n",
    "from selenium.webdriver.common.by import By\n",
    "from tabulate import tabulate\n",
    "from webdriver_manager.chrome import ChromeDriverManager\n",
    "servico = Service(ChromeDriverManager().install())\n",
    "import funcoes as fc"
   ]
  },
  {
   "cell_type": "code",
   "execution_count": 55,
   "metadata": {},
   "outputs": [],
   "source": [
    "#INICIA O NAVEGADOR\n",
    "navegador = uc.Chrome(service=servico)\n",
    "navegador.maximize_window()\n",
    "navegador.get('https://sei.anatel.gov.br/')\n"
   ]
  },
  {
   "cell_type": "code",
   "execution_count": 56,
   "metadata": {},
   "outputs": [],
   "source": [
    "#ENTRAR NA CAIXA DE PROCESSOS ATRIBUIDOS AO USUARIO\n",
    "if fc.check_element_exists(By.XPATH,'//*[@id=\"divFiltro\"]/div[2]/a', navegador):\n",
    "    navegador.find_element(By.XPATH,'//*[@id=\"divFiltro\"]/div[2]/a').click()\n",
    "#CASO NAO ENCONTRE O FILTRO DE PROCESSOS ELE INFORMA QUE NAO ENTROU NO SEI\n",
    "else:\n",
    "    #APAGA O USUÁRIO\n",
    "    navegador.find_element(By.XPATH,'//*[@id=\"txtUsuario\"]').clear()\n",
    "    print('Usuário ou senha incorretos. Digite novamente')"
   ]
  },
  {
   "cell_type": "code",
   "execution_count": 57,
   "metadata": {},
   "outputs": [],
   "source": [
    "#PEGA O CORPO DA TABELA NO NAVEGADOR\n",
    "tbody = navegador.find_element(By.XPATH, '//*[@id=\"tblProcessosRecebidos\"]/tbody')\n",
    "#PEGA TODAS AS LINHAS (TR) DO CORPO DA TABELA, EXCETO A PRIMEIRA\n",
    "trs = tbody.find_elements(By.TAG_NAME, 'tr')[1:]"
   ]
  },
  {
   "cell_type": "code",
   "execution_count": 58,
   "metadata": {},
   "outputs": [
    {
     "name": "stdout",
     "output_type": "stream",
     "text": [
      "53500.093241/2024-03 (lukasa.estagio)\n"
     ]
    }
   ],
   "source": [
    "tr = trs[0]\n",
    "print(tr.text)"
   ]
  },
  {
   "cell_type": "code",
   "execution_count": 59,
   "metadata": {},
   "outputs": [],
   "source": [
    "def processa_tr(tr):\n",
    "    #PEGA TODAS AS COLUNAS (TD) DA LINHA ATUAL (TR)\n",
    "    tds = tr.find_elements(By.TAG_NAME, 'td')\n",
    "    #INICIALIZA AS VARIÁVEIS QUE SERÃO USADAS PARA ARMAZENAR INFORMAÇÕES SOBRE O PROCESSO\n",
    "    processo_texto = \"\"\n",
    "    possui_anotacao = False\n",
    "    aguardando_assinatura = False\n",
    "    #ITERA SOBRE CADA COLUNA (TD) DA LINHA ATUAL (TR)\n",
    "    for td in tds:\n",
    "        #PEGA O TEXTO DA COLUNA ATUAL (TD)\n",
    "        texto = td.text\n",
    "        #VERIFICA SE O TEXTO NÃO CONTÉM A PALAVRA '.ESTAGIO'\n",
    "        if '.estagio' not in texto:\n",
    "            #REMOVE AS PALAVRAS 'RECEBIDOS' E ESPAÇOS EM BRANCO DO TEXTO\n",
    "            texto = texto.replace('Recebidos', '').replace(' ', '')\n",
    "            #ARMAZENA O TEXTO MODIFICADO NA VARIÁVEL 'PROCESSO_TEXTO'\n",
    "            processo_texto = texto\n",
    "        #PROCURA POR ÍCONES DE ANOTAÇÃO NA LINHA ATUAL (TR)\n",
    "        anotacoes = tr.find_elements(By.XPATH, './/img[@src=\"svg/anotacao1.svg?18\"]')\n",
    "        #VERIFICA SE ENCONTROU ALGUM ÍCONE DE ANOTAÇÃO\n",
    "        if anotacoes:\n",
    "            #SE ENCONTROU, MARCA A VARIÁVEL 'POSSUI_ANOTACAO' COMO VERDADEIRA\n",
    "            possui_anotacao = True\n",
    "            #VERIFICA SE A ANOTAÇÃO CONTÉM O TEXTO 'AGUARDANDO ASSINATURA'\n",
    "            if tr.find_elements(By.XPATH, \".//*[contains(translate(@onmouseover, 'ABCDEFGHIJKLMNOPQRSTUVWXYZ', 'abcdefghijklmnopqrstuvwxyz'), 'aguardando assinatura')]\"):\n",
    "                #SE CONTÉM, MARCA A VARIÁVEL 'AGUARDANDO_ASSINATURA' COMO VERDADEIRA\n",
    "                aguardando_assinatura = True\n",
    "    #RETORNA AS INFORMAÇÕES DO PROCESSO COMO UMA TUPLA\n",
    "    return (processo_texto.strip(), possui_anotacao, aguardando_assinatura)"
   ]
  },
  {
   "cell_type": "code",
   "execution_count": 60,
   "metadata": {},
   "outputs": [],
   "source": [
    "lista_processos = []\n",
    "lista_procConformes = []\n",
    "\n",
    "for tr in trs:\n",
    "    processo_texto, possui_anotacao, aguardando_assinatura = processa_tr(tr)\n",
    "    if aguardando_assinatura:\n",
    "        lista_procConformes.append(processo_texto)  \n",
    "    elif not possui_anotacao:\n",
    "        lista_processos.append(processo_texto) "
   ]
  },
  {
   "cell_type": "code",
   "execution_count": 51,
   "metadata": {},
   "outputs": [
    {
     "name": "stdout",
     "output_type": "stream",
     "text": [
      "Quantidade de processos para analisar 27\n",
      "Quantidade de processos para concluir 15\n"
     ]
    }
   ],
   "source": [
    "#INVERTE A ORDEM DOS PROCESSOS NAS LISTAS\n",
    "lista_processos.reverse()\n",
    "\n",
    "#IMPRIME A QUANTIDADE DE PROCESSOS QUE SERÃO ANALISADOS E CONCLUÍDOS\n",
    "print(\"Quantidade de processos para analisar\",len(lista_processos))\n",
    "print(\"Quantidade de processos para concluir\", len(lista_procConformes))\n",
    "\n",
    "#COLETA CAMINHO DAS PLANILHAS DE EQUIPAMENTOS CONFORMES\n",
    "\n",
    "planilhaDrones = f\"C:\\\\Users\\\\lukasa.estagio\\\\ANATEL\\\\ORCN - Drones\\\\Lista de Drones Anatel_Corrigida.xlsx\"\n",
    "planilhaRadios = f\"C:\\\\Users\\\\lukasa.estagio\\\\ANATEL\\\\ORCN - Rádios\\\\Lista Radiamador.xlsx\"\n",
    "planilhaGeral = f\"C:\\\\Users\\\\lukasa.estagio\\\\ANATEL\\\\ORCN - DRONES SEI PLANILHA\\\\Distribuição Processo Drone.xlsx\"\n"
   ]
  },
  {
   "cell_type": "code",
   "execution_count": 52,
   "metadata": {},
   "outputs": [],
   "source": [
    "#FUNCAO QUE ESPERA UM ELEMENTO CARREGAR NA TELA E CLICA NELE\n",
    "def clica_noelemento(navegador, modo_procura, element_id, tempo=10):\n",
    "    # Espera até que o elemento seja carregado (exemplo: elemento localizado por ID)\n",
    "    try:\n",
    "        element = WebDriverWait(navegador, tempo).until(\n",
    "            EC.element_to_be_clickable((modo_procura, element_id))\n",
    "        )\n",
    "        # Clica no elemento\n",
    "        element.click()\n",
    "        return True\n",
    "    except TimeoutException:\n",
    "        print(f\"Elemento {element_id} não foi carregado no tempo esperado\")\n",
    "        return False"
   ]
  },
  {
   "cell_type": "code",
   "execution_count": null,
   "metadata": {},
   "outputs": [],
   "source": [
    "navegador.switch_to.default_content()\n",
    "navegador.find_element(By.ID,'txtPesquisaRapida').send_keys(lista_processos[0])\n",
    "elementos = navegador.find_element(By.ID,'txtPesquisaRapida')\n",
    "elementos.send_keys(Keys.ENTER)\n",
    "# #CRIA DESPACHO\n",
    "# navegador.switch_to.frame('ifrConteudoVisualizacao')\n",
    "# #time.sleep(2)\n",
    "# #CLICA NO INCONE DE INCLUIR DOCUMENTO\n",
    "# clica_noelemento(navegador, By.XPATH,'//*[@id=\"divArvoreAcoes\"]/a[1]')\n",
    "# navegador.switch_to.frame('ifrVisualizacao')\n",
    "# clica_noelemento(navegador, By.PARTIAL_LINK_TEXT,'Despacho Decisório')"
   ]
  },
  {
   "cell_type": "code",
   "execution_count": 63,
   "metadata": {},
   "outputs": [
    {
     "data": {
      "text/plain": [
       "True"
      ]
     },
     "execution_count": 63,
     "metadata": {},
     "output_type": "execute_result"
    }
   ],
   "source": [
    "navegador.switch_to.default_content()\n",
    "navegador.switch_to.frame('ifrArvore')\n",
    "#CLICA NO DESPACHO DECISORIO\n",
    "clica_noelemento(navegador, By.PARTIAL_LINK_TEXT,\"Despacho Decisório\")\n",
    "#navegador.find_element(By.PARTIAL_LINK_TEXT, \"Despacho Decisório\").click()\n",
    "navegador.switch_to.default_content()\n",
    "navegador.switch_to.frame('ifrConteudoVisualizacao')\n",
    "time.sleep(1)\n",
    "#CLICA NO ICONE DE LEGO\n",
    "clica_noelemento(navegador, By.XPATH,'//*[@id=\"divArvoreAcoes\"]/a[8]')"
   ]
  },
  {
   "cell_type": "code",
   "execution_count": 64,
   "metadata": {},
   "outputs": [],
   "source": [
    "navegador.switch_to.frame('ifrVisualizacao')\n",
    "select_element = navegador.find_element(By.ID, 'selBloco')\n",
    "select = Select(select_element)\n",
    "#PROCURA O PRIMEIRO BLOCO QUE TENHA O TEXTO \"Despachos para Drones aprovados\"\n",
    "for opcao in select.options:\n",
    "    if \"Despachos para Drones aprovados\" in opcao.text:\n",
    "        select.select_by_visible_text(opcao.text)\n",
    "        break\n",
    "time.sleep(0.5)"
   ]
  },
  {
   "cell_type": "code",
   "execution_count": 68,
   "metadata": {},
   "outputs": [
    {
     "data": {
      "text/plain": [
       "True"
      ]
     },
     "execution_count": 68,
     "metadata": {},
     "output_type": "execute_result"
    }
   ],
   "source": [
    "navegador.switch_to.default_content()\n",
    "navegador.switch_to.frame('ifrConteudoVisualizacao')\n",
    "clica_noelemento(navegador, By.XPATH,'//*[@id=\"divArvoreAcoes\"]/a[19]')\n",
    "navegador.switch_to.frame('ifrVisualizacao')\n",
    "clica_noelemento(navegador, By.XPATH, '//*[@id=\"sbmSalvar\"]')"
   ]
  },
  {
   "cell_type": "code",
   "execution_count": null,
   "metadata": {},
   "outputs": [],
   "source": []
  }
 ],
 "metadata": {
  "kernelspec": {
   "display_name": "Python 3",
   "language": "python",
   "name": "python3"
  },
  "language_info": {
   "codemirror_mode": {
    "name": "ipython",
    "version": 3
   },
   "file_extension": ".py",
   "mimetype": "text/x-python",
   "name": "python",
   "nbconvert_exporter": "python",
   "pygments_lexer": "ipython3",
   "version": "3.12.6"
  }
 },
 "nbformat": 4,
 "nbformat_minor": 2
}
