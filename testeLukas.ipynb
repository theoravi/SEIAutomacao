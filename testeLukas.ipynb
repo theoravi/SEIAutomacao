{
 "cells": [
  {
   "cell_type": "code",
   "execution_count": 1,
   "metadata": {},
   "outputs": [],
   "source": [
    "import numpy as np\n",
    "import pandas as pd\n",
    "import time\n",
    "import tkinter as tk\n",
    "from openpyxl import load_workbook\n",
    "import undetected_chromedriver as uc\n",
    "from selenium.webdriver.chrome.service import Service\n",
    "from selenium.webdriver.common.keys import Keys\n",
    "from selenium.webdriver.support.ui import Select\n",
    "from selenium.common.exceptions import NoSuchElementException\n",
    "from selenium.common.exceptions import TimeoutException\n",
    "from selenium.webdriver.support.ui import WebDriverWait\n",
    "from selenium.webdriver.support import expected_conditions as EC\n",
    "from selenium.webdriver.common.alert import Alert\n",
    "from selenium.webdriver.common.by import By\n",
    "from tabulate import tabulate\n",
    "from webdriver_manager.chrome import ChromeDriverManager\n",
    "servico = Service(ChromeDriverManager().install())\n",
    "import funcoes as fc"
   ]
  },
  {
   "cell_type": "code",
   "execution_count": 55,
   "metadata": {},
   "outputs": [],
   "source": [
    "#INICIA O NAVEGADOR\n",
    "navegador = uc.Chrome(service=servico)\n",
    "navegador.maximize_window()\n",
    "navegador.get('https://sei.anatel.gov.br/')\n"
   ]
  },
  {
   "cell_type": "code",
   "execution_count": 56,
   "metadata": {},
   "outputs": [],
   "source": [
    "#ENTRAR NA CAIXA DE PROCESSOS ATRIBUIDOS AO USUARIO\n",
    "if fc.check_element_exists(By.XPATH,'//*[@id=\"divFiltro\"]/div[2]/a', navegador):\n",
    "    navegador.find_element(By.XPATH,'//*[@id=\"divFiltro\"]/div[2]/a').click()\n",
    "#CASO NAO ENCONTRE O FILTRO DE PROCESSOS ELE INFORMA QUE NAO ENTROU NO SEI\n",
    "else:\n",
    "    #APAGA O USUÁRIO\n",
    "    navegador.find_element(By.XPATH,'//*[@id=\"txtUsuario\"]').clear()\n",
    "    print('Usuário ou senha incorretos. Digite novamente')"
   ]
  },
  {
   "cell_type": "code",
   "execution_count": 4,
   "metadata": {},
   "outputs": [],
   "source": [
    "lista_processos = []\n",
    "lista_procConformes = []"
   ]
  },
  {
   "cell_type": "code",
   "execution_count": null,
   "metadata": {},
   "outputs": [],
   "source": [
    "planilhaDrones = f\"C:\\\\Users\\\\lukasa.estagio\\\\ANATEL\\\\ORCN - Drones\\\\Lista de Drones Anatel_Corrigida.xlsx\"\n",
    "planilhaRadios = f\"C:\\\\Users\\\\lukasa.estagio\\\\ANATEL\\\\ORCN - Rádios\\\\Lista Radiamador.xlsx\"\n",
    "planilhaGeral = f\"C:\\\\Users\\\\lukasa.estagio\\\\ANATEL\\\\ORCN - DRONES SEI PLANILHA\\\\Distribuição Processo Drone.xlsx\""
   ]
  },
  {
   "cell_type": "code",
   "execution_count": null,
   "metadata": {},
   "outputs": [],
   "source": []
  }
 ],
 "metadata": {
  "kernelspec": {
   "display_name": "Python 3",
   "language": "python",
   "name": "python3"
  },
  "language_info": {
   "codemirror_mode": {
    "name": "ipython",
    "version": 3
   },
   "file_extension": ".py",
   "mimetype": "text/x-python",
   "name": "python",
   "nbconvert_exporter": "python",
   "pygments_lexer": "ipython3",
   "version": "3.12.6"
  }
 },
 "nbformat": 4,
 "nbformat_minor": 2
}
