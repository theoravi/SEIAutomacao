{
 "cells": [
  {
   "cell_type": "code",
   "execution_count": 5,
   "metadata": {},
   "outputs": [],
   "source": [
    "import numpy as np\n",
    "import pandas as pd\n",
    "import time\n",
    "import tkinter as tk\n",
    "from openpyxl import load_workbook\n",
    "import undetected_chromedriver as uc\n",
    "from selenium.webdriver.chrome.service import Service\n",
    "from selenium.webdriver.common.keys import Keys\n",
    "from selenium.webdriver.support.ui import Select\n",
    "from selenium.common.exceptions import NoSuchElementException\n",
    "from selenium.common.exceptions import TimeoutException\n",
    "from selenium.webdriver.support.ui import WebDriverWait\n",
    "from selenium.webdriver.support import expected_conditions as EC\n",
    "from selenium.webdriver.common.alert import Alert\n",
    "from selenium.webdriver.common.by import By\n",
    "from tabulate import tabulate\n",
    "from webdriver_manager.chrome import ChromeDriverManager\n",
    "servico = Service(ChromeDriverManager().install())\n",
    "import funcoes as fc"
   ]
  },
  {
   "cell_type": "code",
   "execution_count": 6,
   "metadata": {},
   "outputs": [],
   "source": [
    "#INICIA O NAVEGADOR\n",
    "navegador = uc.Chrome(service=servico)\n",
    "navegador.maximize_window()\n",
    "navegador.get('https://sei.anatel.gov.br/')\n"
   ]
  },
  {
   "cell_type": "code",
   "execution_count": null,
   "metadata": {},
   "outputs": [],
   "source": [
    "lista_procConformes = [\"53500.074124/2024-32\", \"53500.073842/2024-91\"]"
   ]
  },
  {
   "cell_type": "code",
   "execution_count": 7,
   "metadata": {},
   "outputs": [],
   "source": [
    "#FUNCAO QUE ESPERA UM ELEMENTO CARREGAR NA TELA E CLICA NELE\n",
    "def clica_noelemento(navegador, modo_procura, element_id):\n",
    "    # Espera até que o elemento seja carregado (exemplo: elemento localizado por ID)\n",
    "    try:\n",
    "        element = WebDriverWait(navegador, 10).until(\n",
    "            EC.element_to_be_clickable((modo_procura, element_id))\n",
    "        )\n",
    "        # Clica no elemento\n",
    "        element.click()\n",
    "    except TimeoutException:\n",
    "        print(f\"Elemento {element_id} não foi carregado no tempo esperado\")\n"
   ]
  },
  {
   "cell_type": "code",
   "execution_count": 9,
   "metadata": {},
   "outputs": [],
   "source": [
    "navegador.switch_to.default_content()\n",
    "navegador.switch_to.frame('ifrVisualizacao')\n",
    "time.sleep(1)\n",
    "#CLICA NO ICONE DE LEGO\n",
    "# clica_noelemento(navegador, By.XPATH,'//*[@id=\"divArvoreAcoes\"]/a[8]')\n",
    "#navegador.find_element(By.XPATH, '//*[@id=\"divArvoreAcoes\"]/a[8]').click()\n",
    "#SELECIONA BLOCO (SELECIONA O PRIMEIRO DESPACHO PARA DRONES APROVADOS QUE LER)\n",
    "time.sleep(1.5)\n",
    "select_element = navegador.find_element(By.ID, 'selBloco')\n",
    "time.sleep(0.5)\n",
    "select = Select(select_element)\n",
    "time.sleep(0.5)\n",
    "#PROCURA O PRIMEIRO BLOCO QUE TENHA O TEXTO \"Despachos para Drones aprovados\"\n",
    "for opcao in select.options:\n",
    "    if \"Despachos para Drones aprovados\" in opcao.text:\n",
    "        select.select_by_visible_text(opcao.text)\n",
    "        break\n",
    "#CLICA NO BOTAO DE INCLUIR NO BLOCO"
   ]
  }
 ],
 "metadata": {
  "kernelspec": {
   "display_name": "Python 3",
   "language": "python",
   "name": "python3"
  },
  "language_info": {
   "codemirror_mode": {
    "name": "ipython",
    "version": 3
   },
   "file_extension": ".py",
   "mimetype": "text/x-python",
   "name": "python",
   "nbconvert_exporter": "python",
   "pygments_lexer": "ipython3",
   "version": "3.12.6"
  }
 },
 "nbformat": 4,
 "nbformat_minor": 2
}
