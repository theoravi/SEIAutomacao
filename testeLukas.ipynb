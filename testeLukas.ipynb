{
 "cells": [
  {
   "cell_type": "code",
   "execution_count": 1,
   "metadata": {},
   "outputs": [],
   "source": [
    "import pandas as pd"
   ]
  },
  {
   "cell_type": "code",
   "execution_count": 5,
   "metadata": {},
   "outputs": [],
   "source": [
    "lista_processos = [\"53500.073244/2024-12\", \"53500.073223/2024-05\", \"53500.073219/2024-39\", \"53500.073206/2024-60\", \"53500.073204/2024-71\"] "
   ]
  },
  {
   "cell_type": "code",
   "execution_count": 2,
   "metadata": {},
   "outputs": [],
   "source": [
    "caminho = input(\"Insira o caminho da planilha geral: \")\n",
    "file_path = caminho.replace('\"','').replace('\\\\','/')"
   ]
  },
  {
   "cell_type": "code",
   "execution_count": 20,
   "metadata": {},
   "outputs": [
    {
     "data": {
      "text/html": [
       "<div>\n",
       "<style scoped>\n",
       "    .dataframe tbody tr th:only-of-type {\n",
       "        vertical-align: middle;\n",
       "    }\n",
       "\n",
       "    .dataframe tbody tr th {\n",
       "        vertical-align: top;\n",
       "    }\n",
       "\n",
       "    .dataframe thead th {\n",
       "        text-align: right;\n",
       "    }\n",
       "</style>\n",
       "<table border=\"1\" class=\"dataframe\">\n",
       "  <thead>\n",
       "    <tr style=\"text-align: right;\">\n",
       "      <th></th>\n",
       "      <th>Nº do Processo SEI</th>\n",
       "      <th>Retido</th>\n",
       "      <th>NumerodoRastreio</th>\n",
       "    </tr>\n",
       "  </thead>\n",
       "  <tbody>\n",
       "    <tr>\n",
       "      <th>0</th>\n",
       "      <td>53500.339657/2022-11</td>\n",
       "      <td>NÃO</td>\n",
       "      <td>NaN</td>\n",
       "    </tr>\n",
       "    <tr>\n",
       "      <th>1</th>\n",
       "      <td>53500.005314/2024-18</td>\n",
       "      <td>NÃO</td>\n",
       "      <td>NaN</td>\n",
       "    </tr>\n",
       "    <tr>\n",
       "      <th>2</th>\n",
       "      <td>53500.009687/2024-50</td>\n",
       "      <td>SIM</td>\n",
       "      <td>NM054271681BR</td>\n",
       "    </tr>\n",
       "    <tr>\n",
       "      <th>3</th>\n",
       "      <td>53500.008803/2024-13</td>\n",
       "      <td>NÃO</td>\n",
       "      <td>NaN</td>\n",
       "    </tr>\n",
       "    <tr>\n",
       "      <th>4</th>\n",
       "      <td>53500.008794/2024-61</td>\n",
       "      <td>SIM</td>\n",
       "      <td>LB582291306HK</td>\n",
       "    </tr>\n",
       "    <tr>\n",
       "      <th>...</th>\n",
       "      <td>...</td>\n",
       "      <td>...</td>\n",
       "      <td>...</td>\n",
       "    </tr>\n",
       "    <tr>\n",
       "      <th>15939</th>\n",
       "      <td>53500.080002/2024-85</td>\n",
       "      <td>NaN</td>\n",
       "      <td>NaN</td>\n",
       "    </tr>\n",
       "    <tr>\n",
       "      <th>15940</th>\n",
       "      <td>53500.080017/2024-43</td>\n",
       "      <td>NaN</td>\n",
       "      <td>NaN</td>\n",
       "    </tr>\n",
       "    <tr>\n",
       "      <th>15941</th>\n",
       "      <td>53500.080104/2024-09</td>\n",
       "      <td>NaN</td>\n",
       "      <td>NaN</td>\n",
       "    </tr>\n",
       "    <tr>\n",
       "      <th>15942</th>\n",
       "      <td>53500.080123/2024-27</td>\n",
       "      <td>NaN</td>\n",
       "      <td>NaN</td>\n",
       "    </tr>\n",
       "    <tr>\n",
       "      <th>15943</th>\n",
       "      <td>53500.080125/2024-16</td>\n",
       "      <td>NaN</td>\n",
       "      <td>NaN</td>\n",
       "    </tr>\n",
       "  </tbody>\n",
       "</table>\n",
       "<p>15944 rows × 3 columns</p>\n",
       "</div>"
      ],
      "text/plain": [
       "         Nº do Processo SEI Retido NumerodoRastreio\n",
       "0      53500.339657/2022-11   NÃO               NaN\n",
       "1      53500.005314/2024-18    NÃO              NaN\n",
       "2      53500.009687/2024-50    SIM    NM054271681BR\n",
       "3      53500.008803/2024-13   NÃO               NaN\n",
       "4      53500.008794/2024-61    SIM    LB582291306HK\n",
       "...                     ...    ...              ...\n",
       "15939  53500.080002/2024-85    NaN              NaN\n",
       "15940  53500.080017/2024-43    NaN              NaN\n",
       "15941  53500.080104/2024-09    NaN              NaN\n",
       "15942  53500.080123/2024-27    NaN              NaN\n",
       "15943  53500.080125/2024-16    NaN              NaN\n",
       "\n",
       "[15944 rows x 3 columns]"
      ]
     },
     "execution_count": 20,
     "metadata": {},
     "output_type": "execute_result"
    }
   ],
   "source": [
    "# Carregar a planilha geral de processos\n",
    "df = pd.read_excel(file_path, usecols=[0,2,3])\n",
    "df"
   ]
  },
  {
   "cell_type": "code",
   "execution_count": 21,
   "metadata": {},
   "outputs": [
    {
     "data": {
      "text/plain": [
       "(         Nº do Processo SEI Retido NumerodoRastreio\n",
       " 14444  53500.073223/2024-05    Sim    NM475199113BR,\n",
       " 'Sim',\n",
       " 'NM475199113BR')"
      ]
     },
     "execution_count": 21,
     "metadata": {},
     "output_type": "execute_result"
    }
   ],
   "source": [
    "resultado = df[df['Nº do Processo SEI'] == \"53500.073223/2024-05\"]  \n",
    "retido = resultado.iloc[0]['Retido']\n",
    "codRastreio = resultado.iloc[0]['NumerodoRastreio']\n",
    "resultado, retido, codRastreio"
   ]
  },
  {
   "cell_type": "code",
   "execution_count": 14,
   "metadata": {},
   "outputs": [
    {
     "name": "stdout",
     "output_type": "stream",
     "text": [
      "Processo 53500.073244/2024-12: Retido = Não\n",
      "Processo 53500.073223/2024-05: Retido = Sim\n",
      "Processo 53500.073219/2024-39: Retido = Não\n",
      "Processo 53500.073206/2024-60: Retido = Não\n",
      "Processo 53500.073204/2024-71: Retido = Sim\n"
     ]
    }
   ],
   "source": [
    "# Iterar sobre cada processo\n",
    "for processo in lista_processos:\n",
    "    # Procurar o processo na primeira coluna\n",
    "    resultado = df[df['Nº do Processo SEI'] == processo]  # Pega o processo na primeira coluna\n",
    "    \n",
    "    if not resultado.empty:\n",
    "        # Pegar o valor da terceira coluna (retido)\n",
    "        retido = resultado.iloc[0]['Retido'] \n",
    "\n",
    "        # Verificar se o valor é \"Sim\" ou \"Não\"\n",
    "        if retido == 'Sim':\n",
    "            print(f\"Processo {processo}: Retido = Sim\")\n",
    "        elif retido == 'Não':\n",
    "            print(f\"Processo {processo}: Retido = Não\")\n",
    "        else:\n",
    "            print(f\"Processo {processo}: Valor inesperado = {retido}\")\n",
    "    else:\n",
    "        print(f\"Processo {processo} não encontrado\")"
   ]
  },
  {
   "cell_type": "code",
   "execution_count": 19,
   "metadata": {},
   "outputs": [
    {
     "data": {
      "text/plain": [
       "'sim'"
      ]
     },
     "execution_count": 19,
     "metadata": {},
     "output_type": "execute_result"
    }
   ],
   "source": [
    "retido = retido.lower()\n",
    "retido"
   ]
  },
  {
   "cell_type": "code",
   "execution_count": null,
   "metadata": {},
   "outputs": [],
   "source": []
  },
  {
   "cell_type": "code",
   "execution_count": 1,
   "metadata": {},
   "outputs": [],
   "source": [
    "#IMPORTS NECESSÁRIOS PARA O FUNCIONAMENTO DO CÓDIGO\n",
    "import unidecode\n",
    "from concurrent.futures import ThreadPoolExecutor\n",
    "from selenium.webdriver.common.by import By\n",
    "import funcoes as fc"
   ]
  },
  {
   "cell_type": "code",
   "execution_count": 8,
   "metadata": {},
   "outputs": [
    {
     "name": "stdout",
     "output_type": "stream",
     "text": [
      "Usuário ou senha incorretos. Digite novamente\n"
     ]
    },
    {
     "name": "stderr",
     "output_type": "stream",
     "text": [
      "Exception in Tkinter callback\n",
      "Traceback (most recent call last):\n",
      "  File \"c:\\Users\\lukasa.estagio\\AppData\\Local\\Programs\\Python\\Python312\\Lib\\tkinter\\__init__.py\", line 1968, in __call__\n",
      "    return self.func(*args)\n",
      "           ^^^^^^^^^^^^^^^^\n",
      "  File \"c:\\Users\\lukasa.estagio\\OneDrive - ANATEL\\Área de Trabalho\\Theomation_Rep\\SEIAutomacao\\funcoes.py\", line 387, in <lambda>\n",
      "    root.bind('<Return>', lambda event: preencher_campos(user_var, senha_var, navegador, root))\n",
      "                                        ^^^^^^^^^^^^^^^^^^^^^^^^^^^^^^^^^^^^^^^^^^^^^^^^^^^^^^\n",
      "  File \"c:\\Users\\lukasa.estagio\\OneDrive - ANATEL\\Área de Trabalho\\Theomation_Rep\\SEIAutomacao\\funcoes.py\", line 24, in preencher_campos\n",
      "    navegador.find_element(By.XPATH,'//*[@id=\"txtUsuario\"]').clear()\n",
      "    ^^^^^^^^^^^^^^^^^^^^^^^^^^^^^^^^^^^^^^^^^^^^^^^^^^^^^^^^\n",
      "  File \"c:\\Users\\lukasa.estagio\\AppData\\Local\\Programs\\Python\\Python312\\Lib\\site-packages\\selenium\\webdriver\\remote\\webdriver.py\", line 748, in find_element\n",
      "    return self.execute(Command.FIND_ELEMENT, {\"using\": by, \"value\": value})[\"value\"]\n",
      "           ^^^^^^^^^^^^^^^^^^^^^^^^^^^^^^^^^^^^^^^^^^^^^^^^^^^^^^^^^^^^^^^^^\n",
      "  File \"c:\\Users\\lukasa.estagio\\AppData\\Local\\Programs\\Python\\Python312\\Lib\\site-packages\\selenium\\webdriver\\remote\\webdriver.py\", line 354, in execute\n",
      "    self.error_handler.check_response(response)\n",
      "  File \"c:\\Users\\lukasa.estagio\\AppData\\Local\\Programs\\Python\\Python312\\Lib\\site-packages\\selenium\\webdriver\\remote\\errorhandler.py\", line 228, in check_response\n",
      "    raise exception_class(message, screen, stacktrace, alert_text)  # type: ignore[call-arg]  # mypy is not smart enough here\n",
      "    ^^^^^^^^^^^^^^^^^^^^^^^^^^^^^^^^^^^^^^^^^^^^^^^^^^^^^^^^^^^^^^\n",
      "selenium.common.exceptions.UnexpectedAlertPresentException: Alert Text: Usuário ou Senha Inválida.\n",
      "Message: unexpected alert open: {Alert text : Usuário ou Senha Inválida.}\n",
      "  (Session info: chrome=129.0.6668.70)\n",
      "Stacktrace:\n",
      "\tGetHandleVerifier [0x00B66AB3+25587]\n",
      "\t(No symbol) [0x00AF9C54]\n",
      "\t(No symbol) [0x009F2113]\n",
      "\t(No symbol) [0x00A75CBC]\n",
      "\t(No symbol) [0x00A5A936]\n",
      "\t(No symbol) [0x00A2BA73]\n",
      "\t(No symbol) [0x00A2C4CD]\n",
      "\tGetHandleVerifier [0x00E44C63+3032483]\n",
      "\tGetHandleVerifier [0x00E96B99+3368153]\n",
      "\tGetHandleVerifier [0x00BF8F62+624802]\n",
      "\tGetHandleVerifier [0x00C007DC+655644]\n",
      "\t(No symbol) [0x00B0260D]\n",
      "\t(No symbol) [0x00AFF6D8]\n",
      "\t(No symbol) [0x00AFF875]\n",
      "\t(No symbol) [0x00AF1CA6]\n",
      "\tBaseThreadInitThunk [0x760A7BA9+25]\n",
      "\tRtlInitializeExceptionChain [0x77A9C10B+107]\n",
      "\tRtlClearBits [0x77A9C08F+191]\n",
      "\n"
     ]
    }
   ],
   "source": [
    "navegador = fc.abreChromeEdge()\n",
    "while True:\n",
    "    #INICIA JANELA\n",
    "    try:\n",
    "        fc.iniciaJanela(navegador)\n",
    "    #CONDICAO DE ERRO PARA CASO O USUÁRIO ERRE O SEU LOGIN \n",
    "    except Exception:\n",
    "        print('Ocorreu um erro, tente novamente.')\n",
    "    #ENTRAR NA CAIXA DE PROCESSOS ATRIBUIDOS AO USUARIO\n",
    "    if fc.check_element_exists(By.XPATH,'//*[@id=\"divFiltro\"]/div[2]/a', navegador):\n",
    "        navegador.find_element(By.XPATH,'//*[@id=\"divFiltro\"]/div[2]/a').click()\n",
    "        break\n",
    "    #CASO NAO ENCONTRE O FILTRO DE PROCESSOS ELE INFOMA QUE NAO ENTROU NO SEI\n",
    "    else:\n",
    "        #APAGA O USUÁRIO\n",
    "        navegador.find_element(By.XPATH,'//*[@id=\"txtUsuario\"]').clear()\n",
    "        print('Usuário ou senha incorretos. Digite novamente')"
   ]
  },
  {
   "cell_type": "code",
   "execution_count": null,
   "metadata": {},
   "outputs": [],
   "source": [
    "#//*[@id=\"txtUsuario\"]"
   ]
  }
 ],
 "metadata": {
  "kernelspec": {
   "display_name": "Python 3",
   "language": "python",
   "name": "python3"
  },
  "language_info": {
   "codemirror_mode": {
    "name": "ipython",
    "version": 3
   },
   "file_extension": ".py",
   "mimetype": "text/x-python",
   "name": "python",
   "nbconvert_exporter": "python",
   "pygments_lexer": "ipython3",
   "version": "3.12.6"
  }
 },
 "nbformat": 4,
 "nbformat_minor": 2
}
