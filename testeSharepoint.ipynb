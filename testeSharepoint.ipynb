{
 "cells": [
  {
   "cell_type": "code",
   "execution_count": 11,
   "metadata": {},
   "outputs": [
    {
     "ename": "ModuleNotFoundError",
     "evalue": "No module named 'tabulate'",
     "output_type": "error",
     "traceback": [
      "\u001b[1;31m---------------------------------------------------------------------------\u001b[0m",
      "\u001b[1;31mModuleNotFoundError\u001b[0m                       Traceback (most recent call last)",
      "Cell \u001b[1;32mIn[11], line 3\u001b[0m\n\u001b[0;32m      1\u001b[0m \u001b[38;5;28;01mimport\u001b[39;00m \u001b[38;5;21;01mpandas\u001b[39;00m \u001b[38;5;28;01mas\u001b[39;00m \u001b[38;5;21;01mpd\u001b[39;00m\n\u001b[0;32m      2\u001b[0m \u001b[38;5;28;01mfrom\u001b[39;00m \u001b[38;5;21;01mdatetime\u001b[39;00m  \u001b[38;5;28;01mimport\u001b[39;00m datetime\n\u001b[1;32m----> 3\u001b[0m \u001b[38;5;28;01mimport\u001b[39;00m \u001b[38;5;21;01mtabulate\u001b[39;00m\n\u001b[0;32m      4\u001b[0m \u001b[38;5;28;01mimport\u001b[39;00m \u001b[38;5;21;01mtkinter\u001b[39;00m \u001b[38;5;28;01mas\u001b[39;00m \u001b[38;5;21;01mtk\u001b[39;00m\n\u001b[0;32m      5\u001b[0m \u001b[38;5;28;01mfrom\u001b[39;00m \u001b[38;5;21;01mtkinter\u001b[39;00m \u001b[38;5;28;01mimport\u001b[39;00m scrolledtext\n",
      "\u001b[1;31mModuleNotFoundError\u001b[0m: No module named 'tabulate'"
     ]
    }
   ],
   "source": [
    "import pandas as pd\n",
    "from datetime  import datetime\n",
    "\n",
    "import tkinter as tk\n",
    "from tkinter import scrolledtext\n"
   ]
  },
  {
   "cell_type": "code",
   "execution_count": 24,
   "metadata": {},
   "outputs": [],
   "source": [
    "dfDist = pd.read_excel(\"C:/Users/theo.estagio/OneDrive - ANATEL/Área de Trabalho/testePlanilha.xlsx\")\n"
   ]
  },
  {
   "cell_type": "code",
   "execution_count": 25,
   "metadata": {},
   "outputs": [
    {
     "data": {
      "text/html": [
       "<div>\n",
       "<style scoped>\n",
       "    .dataframe tbody tr th:only-of-type {\n",
       "        vertical-align: middle;\n",
       "    }\n",
       "\n",
       "    .dataframe tbody tr th {\n",
       "        vertical-align: top;\n",
       "    }\n",
       "\n",
       "    .dataframe thead th {\n",
       "        text-align: right;\n",
       "    }\n",
       "</style>\n",
       "<table border=\"1\" class=\"dataframe\">\n",
       "  <thead>\n",
       "    <tr style=\"text-align: right;\">\n",
       "      <th></th>\n",
       "      <th>Nº do Processo SEI</th>\n",
       "      <th>Estagiário responsável</th>\n",
       "      <th>retido</th>\n",
       "      <th>NumerodoRastreio</th>\n",
       "      <th>Solicitante</th>\n",
       "      <th>Interessado</th>\n",
       "      <th>OBSERVAÇÕES</th>\n",
       "      <th>Suspeito de comercialização?</th>\n",
       "      <th>Qtde de processos</th>\n",
       "      <th>Data</th>\n",
       "    </tr>\n",
       "  </thead>\n",
       "  <tbody>\n",
       "    <tr>\n",
       "      <th>0</th>\n",
       "      <td>53500.036902/2024-95</td>\n",
       "      <td>Theo Ravi Cabral Parreiras Riedel</td>\n",
       "      <td>não</td>\n",
       "      <td>NaN</td>\n",
       "      <td>Marcelo Luiz Ferreira</td>\n",
       "      <td>Marcelo Luiz Ferreira</td>\n",
       "      <td>aprovado</td>\n",
       "      <td>Não</td>\n",
       "      <td>1.0</td>\n",
       "      <td>2024-04-27 10:26:14</td>\n",
       "    </tr>\n",
       "    <tr>\n",
       "      <th>1</th>\n",
       "      <td>53500.036999/2024-36</td>\n",
       "      <td>Theo Ravi Cabral Parreiras Riedel</td>\n",
       "      <td>NaN</td>\n",
       "      <td>NaN</td>\n",
       "      <td>NaN</td>\n",
       "      <td>NaN</td>\n",
       "      <td>NaN</td>\n",
       "      <td>NaN</td>\n",
       "      <td>NaN</td>\n",
       "      <td>NaT</td>\n",
       "    </tr>\n",
       "    <tr>\n",
       "      <th>2</th>\n",
       "      <td>53500.022729/2024-48</td>\n",
       "      <td>Theo Ravi Cabral Parreiras Riedel</td>\n",
       "      <td>não</td>\n",
       "      <td>NaN</td>\n",
       "      <td>Breno Lucas de Souza Ribeiro</td>\n",
       "      <td>Breno Lucas de Souza Ribeiro</td>\n",
       "      <td>Aprovado</td>\n",
       "      <td>Não</td>\n",
       "      <td>1.0</td>\n",
       "      <td>2024-03-17 18:25:00</td>\n",
       "    </tr>\n",
       "  </tbody>\n",
       "</table>\n",
       "</div>"
      ],
      "text/plain": [
       "     Nº do Processo SEI             Estagiário responsável retido  \\\n",
       "0  53500.036902/2024-95  Theo Ravi Cabral Parreiras Riedel    não   \n",
       "1  53500.036999/2024-36  Theo Ravi Cabral Parreiras Riedel    NaN   \n",
       "2  53500.022729/2024-48  Theo Ravi Cabral Parreiras Riedel    não   \n",
       "\n",
       "   NumerodoRastreio                   Solicitante  \\\n",
       "0               NaN         Marcelo Luiz Ferreira   \n",
       "1               NaN                           NaN   \n",
       "2               NaN  Breno Lucas de Souza Ribeiro   \n",
       "\n",
       "                    Interessado OBSERVAÇÕES Suspeito de comercialização?  \\\n",
       "0         Marcelo Luiz Ferreira    aprovado                          Não   \n",
       "1                           NaN         NaN                          NaN   \n",
       "2  Breno Lucas de Souza Ribeiro    Aprovado                          Não   \n",
       "\n",
       "   Qtde de processos                Data  \n",
       "0                1.0 2024-04-27 10:26:14  \n",
       "1                NaN                 NaT  \n",
       "2                1.0 2024-03-17 18:25:00  "
      ]
     },
     "metadata": {},
     "output_type": "display_data"
    }
   ],
   "source": [
    "display(dfDist)\n"
   ]
  },
  {
   "cell_type": "code",
   "execution_count": 5,
   "metadata": {},
   "outputs": [],
   "source": [
    "while True:\n",
    "    try:\n",
    "        exig = int(input(\"Opção: \"))\n",
    "    except ValueError:\n",
    "        print(\"Opção inválida. Digite um número inteiro.\")\n",
    "        continue\n",
    "    if exig in range(1, 10):\n",
    "        if exig == 1:\n",
    "            pass\n",
    "        elif exig == 2:\n",
    "            pass\n",
    "        elif exig == 3:\n",
    "            pass\n",
    "        elif exig == 4:\n",
    "            pass\n",
    "        elif exig == 5:\n",
    "            pass\n",
    "        elif exig == 6:\n",
    "            pass\n",
    "        elif exig == 7:\n",
    "            pass\n",
    "        elif exig == 8:\n",
    "            pass\n",
    "        elif exig == 9:\n",
    "            pass\n",
    "        break\n",
    "    else:\n",
    "        print(\"Opção inválida. Tente novamente.\")\n",
    "        "
   ]
  },
  {
   "cell_type": "code",
   "execution_count": 3,
   "metadata": {},
   "outputs": [
    {
     "name": "stdout",
     "output_type": "stream",
     "text": [
      "Prezado(a) Senhor(a),\n",
      "\n",
      "Em atenção ao pedido de homologação constante do processo SEI em referência, informamos que:\n",
      "\n",
      "1. O pedido foi APROVADO\n",
      "2. O Despacho Decisório que aprovou o pedido está disponível publicamente por meio do sistema SEI na área de Pesquisa Pública, no link:\n",
      "\n",
      "        https://sei.anatel.gov.br/sei/modulos/pesquisa/md_pesq_processo_pesquisar.php?acao_externa=protocolo_pesquisar&acao_origem_externa=protocolo_pesquisar&id_orgao_acesso_externo=0\n",
      "\n",
      "\n",
      "3. O Despacho Decisório deverá ser portado junto ao Equipamento (fisicamente ou eletronicamente), para que as autoridades competentes possam conferir a regularidade, quando necessário.\n",
      "\n",
      "FAVOR NÃO RESPONDER ESTE E-MAIL.\n",
      "\n",
      "Atenciosamente,\n",
      "\n",
      "ORCN - Gerência de Certificação e Numeração\n",
      "\n",
      "SOR - Superintendência de Outorga e Recursos à Prestação\n",
      "\n",
      "Anatel - Agência Nacional de Telecomunicações\n"
     ]
    }
   ],
   "source": [
    "textoNaoRetido = '''Prezado(a) Senhor(a),\n",
    "\n",
    "Em atenção ao pedido de homologação constante do processo SEI em referência, informamos que:\n",
    "\n",
    "1. O pedido foi APROVADO\n",
    "2. O Despacho Decisório que aprovou o pedido está disponível publicamente por meio do sistema SEI na área de Pesquisa Pública, no link:\n",
    "\n",
    "        https://sei.anatel.gov.br/sei/modulos/pesquisa/md_pesq_processo_pesquisar.php?acao_externa=protocolo_pesquisar&acao_origem_externa=protocolo_pesquisar&id_orgao_acesso_externo=0\n",
    "\n",
    "\n",
    "3. O Despacho Decisório deverá ser portado junto ao Equipamento (fisicamente ou eletronicamente), para que as autoridades competentes possam conferir a regularidade, quando necessário.\n",
    "\n",
    "FAVOR NÃO RESPONDER ESTE E-MAIL.\n",
    "\n",
    "Atenciosamente,\n",
    "\n",
    "ORCN - Gerência de Certificação e Numeração\n",
    "\n",
    "SOR - Superintendência de Outorga e Recursos à Prestação\n",
    "\n",
    "Anatel - Agência Nacional de Telecomunicações'''\n",
    "\n",
    "print(textoNaoRetido)\n"
   ]
  },
  {
   "cell_type": "code",
   "execution_count": 3,
   "metadata": {},
   "outputs": [],
   "source": [
    "processosAssinados = '53500.039531/2024-01'\n",
    "\n",
    "with open('processosConformes.txt', 'r') as file:\n",
    "                            lines = file.readlines()\n",
    "\n",
    "with open('processosConformes.txt', 'w') as file:\n",
    "    for line in lines:\n",
    "        if line.strip() != processosAssinados.strip():\n",
    "            file.write(line)\n",
    "            "
   ]
  },
  {
   "cell_type": "code",
   "execution_count": 19,
   "metadata": {},
   "outputs": [
    {
     "name": "stdout",
     "output_type": "stream",
     "text": [
      "27\n"
     ]
    }
   ],
   "source": [
    "hour = datetime.now()\n",
    "\n",
    "print(hour.day)\n"
   ]
  },
  {
   "cell_type": "code",
   "execution_count": 10,
   "metadata": {},
   "outputs": [
    {
     "ename": "ModuleNotFoundError",
     "evalue": "No module named 'tabulate'",
     "output_type": "error",
     "traceback": [
      "\u001b[1;31m---------------------------------------------------------------------------\u001b[0m",
      "\u001b[1;31mModuleNotFoundError\u001b[0m                       Traceback (most recent call last)",
      "Cell \u001b[1;32mIn[10], line 1\u001b[0m\n\u001b[1;32m----> 1\u001b[0m \u001b[38;5;28;01mfrom\u001b[39;00m \u001b[38;5;21;01mtabulate\u001b[39;00m \u001b[38;5;28;01mimport\u001b[39;00m tabulate\n\u001b[0;32m      3\u001b[0m \u001b[38;5;66;03m# Seu código existente\u001b[39;00m\n\u001b[0;32m      4\u001b[0m tabela \u001b[38;5;241m=\u001b[39m pd\u001b[38;5;241m.\u001b[39mread_excel(\u001b[38;5;124m\"\u001b[39m\u001b[38;5;124mC:/Users/theo.estagio/ANATEL/ORCN - Drones/Lista de Drones Anatel_Corrigida.xlsx\u001b[39m\u001b[38;5;124m\"\u001b[39m)\n",
      "\u001b[1;31mModuleNotFoundError\u001b[0m: No module named 'tabulate'"
     ]
    }
   ],
   "source": [
    "from tabulate import tabulate\n",
    "\n",
    "# Seu código existente\n",
    "tabela = pd.read_excel(\"C:/Users/theo.estagio/ANATEL/ORCN - Drones/Lista de Drones Anatel_Corrigida.xlsx\")\n",
    "tabela.columns = tabela.iloc[1]\n",
    "tabela = tabela.iloc[2:]# Cria uma nova lista de cabeçalhos\n",
    "tabela = tabela.reset_index(drop=True)\n",
    "\n",
    "# Converte o DataFrame para uma lista de listas\n",
    "data = tabela.values.tolist()\n",
    "\n",
    "# Obtém os cabeçalhos das colunas como uma lista\n",
    "headers = tabela.columns.tolist()\n",
    "\n",
    "# Usa tabulate para imprimir a tabela\n",
    "print(tabulate(data, headers=headers, tablefmt='pretty'))"
   ]
  },
  {
   "cell_type": "code",
   "execution_count": 9,
   "metadata": {},
   "outputs": [
    {
     "name": "stdout",
     "output_type": "stream",
     "text": [
      "Texto final:\n",
      "dasda\n",
      "dsadas\n",
      "dsadas\n",
      "sadasd\n",
      "asdasdasdawd\n",
      "sdasdx\n",
      "czxczxca\n",
      "sqweqwesad\n",
      "sadasczxzxv\n",
      "asdagdg\n",
      "gsdfsfsdf\n",
      "\n"
     ]
    }
   ],
   "source": [
    "from tkinter import scrolledtext\n",
    "\n",
    "def get_text():\n",
    "    global texto_exigencia\n",
    "    texto_exigencia = text_area.get(\"1.0\", tk.END)\n",
    "    root.destroy()\n",
    "\n",
    "# Inicializa a variável global\n",
    "texto_exigencia = \"\"\n",
    "\n",
    "# Cria a janela principal\n",
    "root = tk.Tk()\n",
    "root.title(\"Inserir Texto de Exigência\")\n",
    "\n",
    "# Cria uma área de texto com barra de rolagem\n",
    "text_area = scrolledtext.ScrolledText(root, wrap=tk.WORD, width=80, height=20)\n",
    "text_area.pack(padx=10, pady=10)\n",
    "\n",
    "# Cria um botão para obter o texto\n",
    "btn_get_text = tk.Button(root, text=\"Obter Texto\", command=get_text)\n",
    "btn_get_text.pack(pady=5)\n",
    "\n",
    "# Inicia o loop principal da interface gráfica\n",
    "root.mainloop()\n",
    "\n",
    "# Agora você pode usar a variável texto_exigencia\n",
    "print(\"Texto final:\")\n",
    "print(texto_exigencia)\n"
   ]
  },
  {
   "cell_type": "code",
   "execution_count": 1,
   "metadata": {},
   "outputs": [
    {
     "data": {
      "text/plain": [
       "Point(x=706, y=778)"
      ]
     },
     "execution_count": 1,
     "metadata": {},
     "output_type": "execute_result"
    }
   ],
   "source": [
    "import pyautogui\n",
    "\n",
    "pyautogui.position()"
   ]
  },
  {
   "cell_type": "code",
   "execution_count": 1,
   "metadata": {},
   "outputs": [
    {
     "name": "stdout",
     "output_type": "stream",
     "text": [
      "Nome sem acentos: Lukas Araujo\n"
     ]
    }
   ],
   "source": [
    "import unidecode\n",
    "\n",
    "# Solicita o nome completo ao usuário\n",
    "nomeEstag = input('Insira seu nome completo: ')\n",
    "\n",
    "# Remove os acentos do nome\n",
    "nomeEstag_sem_acentos = unidecode.unidecode(nomeEstag)\n",
    "\n",
    "# Exibe o nome sem acentos\n",
    "print('Nome sem acentos:', nomeEstag_sem_acentos)"
   ]
  }
 ],
 "metadata": {
  "kernelspec": {
   "display_name": "Python 3",
   "language": "python",
   "name": "python3"
  },
  "language_info": {
   "codemirror_mode": {
    "name": "ipython",
    "version": 3
   },
   "file_extension": ".py",
   "mimetype": "text/x-python",
   "name": "python",
   "nbconvert_exporter": "python",
   "pygments_lexer": "ipython3",
   "version": "3.12.3"
  }
 },
 "nbformat": 4,
 "nbformat_minor": 2
}
