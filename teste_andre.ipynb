{
 "cells": [
  {
   "cell_type": "code",
   "execution_count": 1,
   "metadata": {},
   "outputs": [],
   "source": [
    "import funcoes as fc\n",
    "import numpy as np\n",
    "import os\n",
    "import pandas as pd\n",
    "import pyautogui\n",
    "import pyperclip\n",
    "import time\n",
    "import tkinter as tk\n",
    "import undetected_chromedriver as uc\n",
    "from datetime import datetime\n",
    "from selenium import webdriver\n",
    "from selenium.webdriver.chrome.service import Service\n",
    "from selenium.webdriver.chrome.options import Options\n",
    "from selenium.webdriver.common.alert import Alert\n",
    "from selenium.webdriver.common.by import By\n",
    "from selenium.webdriver.common.keys import Keys\n",
    "from selenium.webdriver.support.ui import Select\n",
    "from selenium.common.exceptions import NoSuchElementException\n",
    "from selenium.common.exceptions import TimeoutException\n",
    "from selenium.webdriver.support.ui import WebDriverWait\n",
    "from selenium.webdriver.support import expected_conditions as EC\n",
    "from tabulate import tabulate\n",
    "from tkinter import scrolledtext\n",
    "from webdriver_manager.chrome import ChromeDriverManager"
   ]
  },
  {
   "cell_type": "code",
   "execution_count": 7,
   "metadata": {},
   "outputs": [],
   "source": [
    "#INSTALA O CHROME DRIVEr MAIS ATUALIZADO\n",
    "# Desativa o bloqueio de pop-ups\n",
    "options = webdriver.ChromeOptions()\n",
    "options.add_argument(\"--disable-popup-blocking\") \n",
    "#DEFINE O TEMPO DE EXECUÇÃO PARA CADA COMANDO DO PYAUTOGUI\n",
    "pyautogui.PAUSE = 0.7\n",
    "#INICIA O NAVEGADOR\n",
    "# Caminho do ChromeDriver local\n",
    "# chrome_driver_path = r\"main\\chromedriver-win64\\chromedriver.exe\"  # Altere para o caminho correto do seu ChromeDriver\n",
    "# Configura o serviço do ChromeDriver\n",
    "servico = Service(ChromeDriverManager().install())\n",
    "# Inicia o navegador Chrome\n",
    "navegador = webdriver.Chrome(service=servico, options=options)\n",
    "navegador.maximize_window()\n",
    "#ENTRA NO SEI\n",
    "navegador.get('https://sei.anatel.gov.br/')\n"
   ]
  },
  {
   "cell_type": "code",
   "execution_count": 8,
   "metadata": {},
   "outputs": [],
   "source": [
    "def get_text():\n",
    "    #ENVIA TEXTO DO INPUT\n",
    "    global texto_exigencia\n",
    "    texto_exigencia = text_area.get(\"1.0\", tk.END).strip()\n",
    "    #FECHA A JANELA DE INPUT\n",
    "    root.destroy()\n",
    "\n",
    "#INICIALIZA A VARIAVEL LOCAL QUE RECEBERA O TEXTO DE INPUT\n",
    "texto_exigencia = \"\"\n",
    "\n",
    "#CRIA A JANELA DA INTERFACE PARA CAIXA DE INPUT\n",
    "root = tk.Tk()\n",
    "root.title(\"Inserir Texto de Exigência\")\n",
    "\n",
    "#INSTRUCAO DO QUE O USUARIO DEVE FAZER\n",
    "label_instruction = tk.Label(root, text=\"Insira apenas a exigência:\")\n",
    "label_instruction.pack(padx=10, pady=5)\n",
    "\n",
    "#CRIA AREA DE TEXTO COM ROLAGEM\n",
    "text_area = scrolledtext.ScrolledText(root, wrap=tk.WORD, width=80, height=20)\n",
    "text_area.pack(padx=10, pady=10)\n",
    "\n",
    "#CRIA BOTAO DE RECEBER O TEXTO\n",
    "btn_get_text = tk.Button(root, text=\"Obter Texto\", command=get_text)\n",
    "btn_get_text.pack(pady=5)\n",
    "\n",
    "root.bind('<Control-Return>', lambda event: get_text())\n",
    "\n",
    "#INICIA O LOOP PRINCIPAL QUE MANTEM A JANELA ATIVA\n",
    "root.mainloop()"
   ]
  },
  {
   "cell_type": "code",
   "execution_count": null,
   "metadata": {},
   "outputs": [
    {
     "name": "stdout",
     "output_type": "stream",
     "text": [
      "\n",
      "\n",
      "Concluindo processo nº 53500.062842/2024-66\n",
      "Encontrado despacho de cancelamento\n"
     ]
    },
    {
     "ename": "NoSuchFrameException",
     "evalue": "Message: ifrConteudoVisualizacao\n",
     "output_type": "error",
     "traceback": [
      "\u001b[1;31m---------------------------------------------------------------------------\u001b[0m",
      "\u001b[1;31mNoSuchElementException\u001b[0m                    Traceback (most recent call last)",
      "File \u001b[1;32m~\\AppData\\Local\\Packages\\PythonSoftwareFoundation.Python.3.11_qbz5n2kfra8p0\\LocalCache\\local-packages\\Python311\\site-packages\\selenium\\webdriver\\remote\\switch_to.py:88\u001b[0m, in \u001b[0;36mSwitchTo.frame\u001b[1;34m(self, frame_reference)\u001b[0m\n\u001b[0;32m     87\u001b[0m \u001b[38;5;28;01mtry\u001b[39;00m:\n\u001b[1;32m---> 88\u001b[0m     frame_reference \u001b[38;5;241m=\u001b[39m \u001b[38;5;28;43mself\u001b[39;49m\u001b[38;5;241;43m.\u001b[39;49m\u001b[43m_driver\u001b[49m\u001b[38;5;241;43m.\u001b[39;49m\u001b[43mfind_element\u001b[49m\u001b[43m(\u001b[49m\u001b[43mBy\u001b[49m\u001b[38;5;241;43m.\u001b[39;49m\u001b[43mID\u001b[49m\u001b[43m,\u001b[49m\u001b[43m \u001b[49m\u001b[43mframe_reference\u001b[49m\u001b[43m)\u001b[49m\n\u001b[0;32m     89\u001b[0m \u001b[38;5;28;01mexcept\u001b[39;00m NoSuchElementException:\n",
      "File \u001b[1;32m~\\AppData\\Local\\Packages\\PythonSoftwareFoundation.Python.3.11_qbz5n2kfra8p0\\LocalCache\\local-packages\\Python311\\site-packages\\selenium\\webdriver\\remote\\webdriver.py:748\u001b[0m, in \u001b[0;36mWebDriver.find_element\u001b[1;34m(self, by, value)\u001b[0m\n\u001b[0;32m    746\u001b[0m     value \u001b[38;5;241m=\u001b[39m \u001b[38;5;124mf\u001b[39m\u001b[38;5;124m'\u001b[39m\u001b[38;5;124m[name=\u001b[39m\u001b[38;5;124m\"\u001b[39m\u001b[38;5;132;01m{\u001b[39;00mvalue\u001b[38;5;132;01m}\u001b[39;00m\u001b[38;5;124m\"\u001b[39m\u001b[38;5;124m]\u001b[39m\u001b[38;5;124m'\u001b[39m\n\u001b[1;32m--> 748\u001b[0m \u001b[38;5;28;01mreturn\u001b[39;00m \u001b[38;5;28;43mself\u001b[39;49m\u001b[38;5;241;43m.\u001b[39;49m\u001b[43mexecute\u001b[49m\u001b[43m(\u001b[49m\u001b[43mCommand\u001b[49m\u001b[38;5;241;43m.\u001b[39;49m\u001b[43mFIND_ELEMENT\u001b[49m\u001b[43m,\u001b[49m\u001b[43m \u001b[49m\u001b[43m{\u001b[49m\u001b[38;5;124;43m\"\u001b[39;49m\u001b[38;5;124;43musing\u001b[39;49m\u001b[38;5;124;43m\"\u001b[39;49m\u001b[43m:\u001b[49m\u001b[43m \u001b[49m\u001b[43mby\u001b[49m\u001b[43m,\u001b[49m\u001b[43m \u001b[49m\u001b[38;5;124;43m\"\u001b[39;49m\u001b[38;5;124;43mvalue\u001b[39;49m\u001b[38;5;124;43m\"\u001b[39;49m\u001b[43m:\u001b[49m\u001b[43m \u001b[49m\u001b[43mvalue\u001b[49m\u001b[43m}\u001b[49m\u001b[43m)\u001b[49m[\u001b[38;5;124m\"\u001b[39m\u001b[38;5;124mvalue\u001b[39m\u001b[38;5;124m\"\u001b[39m]\n",
      "File \u001b[1;32m~\\AppData\\Local\\Packages\\PythonSoftwareFoundation.Python.3.11_qbz5n2kfra8p0\\LocalCache\\local-packages\\Python311\\site-packages\\selenium\\webdriver\\remote\\webdriver.py:354\u001b[0m, in \u001b[0;36mWebDriver.execute\u001b[1;34m(self, driver_command, params)\u001b[0m\n\u001b[0;32m    353\u001b[0m \u001b[38;5;28;01mif\u001b[39;00m response:\n\u001b[1;32m--> 354\u001b[0m     \u001b[38;5;28;43mself\u001b[39;49m\u001b[38;5;241;43m.\u001b[39;49m\u001b[43merror_handler\u001b[49m\u001b[38;5;241;43m.\u001b[39;49m\u001b[43mcheck_response\u001b[49m\u001b[43m(\u001b[49m\u001b[43mresponse\u001b[49m\u001b[43m)\u001b[49m\n\u001b[0;32m    355\u001b[0m     response[\u001b[38;5;124m\"\u001b[39m\u001b[38;5;124mvalue\u001b[39m\u001b[38;5;124m\"\u001b[39m] \u001b[38;5;241m=\u001b[39m \u001b[38;5;28mself\u001b[39m\u001b[38;5;241m.\u001b[39m_unwrap_value(response\u001b[38;5;241m.\u001b[39mget(\u001b[38;5;124m\"\u001b[39m\u001b[38;5;124mvalue\u001b[39m\u001b[38;5;124m\"\u001b[39m, \u001b[38;5;28;01mNone\u001b[39;00m))\n",
      "File \u001b[1;32m~\\AppData\\Local\\Packages\\PythonSoftwareFoundation.Python.3.11_qbz5n2kfra8p0\\LocalCache\\local-packages\\Python311\\site-packages\\selenium\\webdriver\\remote\\errorhandler.py:229\u001b[0m, in \u001b[0;36mErrorHandler.check_response\u001b[1;34m(self, response)\u001b[0m\n\u001b[0;32m    228\u001b[0m     \u001b[38;5;28;01mraise\u001b[39;00m exception_class(message, screen, stacktrace, alert_text)  \u001b[38;5;66;03m# type: ignore[call-arg]  # mypy is not smart enough here\u001b[39;00m\n\u001b[1;32m--> 229\u001b[0m \u001b[38;5;28;01mraise\u001b[39;00m exception_class(message, screen, stacktrace)\n",
      "\u001b[1;31mNoSuchElementException\u001b[0m: Message: no such element: Unable to locate element: {\"method\":\"css selector\",\"selector\":\"[id=\"ifrConteudoVisualizacao\"]\"}\n  (Session info: chrome=131.0.6778.205); For documentation on this error, please visit: https://www.selenium.dev/documentation/webdriver/troubleshooting/errors#no-such-element-exception\nStacktrace:\n\tGetHandleVerifier [0x0091EC13+23731]\n\t(No symbol) [0x008AC394]\n\t(No symbol) [0x0078BE63]\n\t(No symbol) [0x007CFCE6]\n\t(No symbol) [0x007CFF2B]\n\t(No symbol) [0x0080D892]\n\t(No symbol) [0x007F1EA4]\n\t(No symbol) [0x0080B46E]\n\t(No symbol) [0x007F1BF6]\n\t(No symbol) [0x007C3F35]\n\t(No symbol) [0x007C4EBD]\n\tGetHandleVerifier [0x00BFF0D3+3039603]\n\tGetHandleVerifier [0x00C12DEA+3120778]\n\tGetHandleVerifier [0x00C0B592+3089970]\n\tGetHandleVerifier [0x009B43B0+635984]\n\t(No symbol) [0x008B4DCD]\n\t(No symbol) [0x008B2068]\n\t(No symbol) [0x008B2205]\n\t(No symbol) [0x008A4FD0]\n\tBaseThreadInitThunk [0x75B27BA9+25]\n\tRtlInitializeExceptionChain [0x7760C0CB+107]\n\tRtlClearBits [0x7760C04F+191]\n",
      "\nDuring handling of the above exception, another exception occurred:\n",
      "\u001b[1;31mNoSuchElementException\u001b[0m                    Traceback (most recent call last)",
      "File \u001b[1;32m~\\AppData\\Local\\Packages\\PythonSoftwareFoundation.Python.3.11_qbz5n2kfra8p0\\LocalCache\\local-packages\\Python311\\site-packages\\selenium\\webdriver\\remote\\switch_to.py:91\u001b[0m, in \u001b[0;36mSwitchTo.frame\u001b[1;34m(self, frame_reference)\u001b[0m\n\u001b[0;32m     90\u001b[0m \u001b[38;5;28;01mtry\u001b[39;00m:\n\u001b[1;32m---> 91\u001b[0m     frame_reference \u001b[38;5;241m=\u001b[39m \u001b[38;5;28;43mself\u001b[39;49m\u001b[38;5;241;43m.\u001b[39;49m\u001b[43m_driver\u001b[49m\u001b[38;5;241;43m.\u001b[39;49m\u001b[43mfind_element\u001b[49m\u001b[43m(\u001b[49m\u001b[43mBy\u001b[49m\u001b[38;5;241;43m.\u001b[39;49m\u001b[43mNAME\u001b[49m\u001b[43m,\u001b[49m\u001b[43m \u001b[49m\u001b[43mframe_reference\u001b[49m\u001b[43m)\u001b[49m\n\u001b[0;32m     92\u001b[0m \u001b[38;5;28;01mexcept\u001b[39;00m NoSuchElementException \u001b[38;5;28;01mas\u001b[39;00m exc:\n",
      "File \u001b[1;32m~\\AppData\\Local\\Packages\\PythonSoftwareFoundation.Python.3.11_qbz5n2kfra8p0\\LocalCache\\local-packages\\Python311\\site-packages\\selenium\\webdriver\\remote\\webdriver.py:748\u001b[0m, in \u001b[0;36mWebDriver.find_element\u001b[1;34m(self, by, value)\u001b[0m\n\u001b[0;32m    746\u001b[0m     value \u001b[38;5;241m=\u001b[39m \u001b[38;5;124mf\u001b[39m\u001b[38;5;124m'\u001b[39m\u001b[38;5;124m[name=\u001b[39m\u001b[38;5;124m\"\u001b[39m\u001b[38;5;132;01m{\u001b[39;00mvalue\u001b[38;5;132;01m}\u001b[39;00m\u001b[38;5;124m\"\u001b[39m\u001b[38;5;124m]\u001b[39m\u001b[38;5;124m'\u001b[39m\n\u001b[1;32m--> 748\u001b[0m \u001b[38;5;28;01mreturn\u001b[39;00m \u001b[38;5;28;43mself\u001b[39;49m\u001b[38;5;241;43m.\u001b[39;49m\u001b[43mexecute\u001b[49m\u001b[43m(\u001b[49m\u001b[43mCommand\u001b[49m\u001b[38;5;241;43m.\u001b[39;49m\u001b[43mFIND_ELEMENT\u001b[49m\u001b[43m,\u001b[49m\u001b[43m \u001b[49m\u001b[43m{\u001b[49m\u001b[38;5;124;43m\"\u001b[39;49m\u001b[38;5;124;43musing\u001b[39;49m\u001b[38;5;124;43m\"\u001b[39;49m\u001b[43m:\u001b[49m\u001b[43m \u001b[49m\u001b[43mby\u001b[49m\u001b[43m,\u001b[49m\u001b[43m \u001b[49m\u001b[38;5;124;43m\"\u001b[39;49m\u001b[38;5;124;43mvalue\u001b[39;49m\u001b[38;5;124;43m\"\u001b[39;49m\u001b[43m:\u001b[49m\u001b[43m \u001b[49m\u001b[43mvalue\u001b[49m\u001b[43m}\u001b[49m\u001b[43m)\u001b[49m[\u001b[38;5;124m\"\u001b[39m\u001b[38;5;124mvalue\u001b[39m\u001b[38;5;124m\"\u001b[39m]\n",
      "File \u001b[1;32m~\\AppData\\Local\\Packages\\PythonSoftwareFoundation.Python.3.11_qbz5n2kfra8p0\\LocalCache\\local-packages\\Python311\\site-packages\\selenium\\webdriver\\remote\\webdriver.py:354\u001b[0m, in \u001b[0;36mWebDriver.execute\u001b[1;34m(self, driver_command, params)\u001b[0m\n\u001b[0;32m    353\u001b[0m \u001b[38;5;28;01mif\u001b[39;00m response:\n\u001b[1;32m--> 354\u001b[0m     \u001b[38;5;28;43mself\u001b[39;49m\u001b[38;5;241;43m.\u001b[39;49m\u001b[43merror_handler\u001b[49m\u001b[38;5;241;43m.\u001b[39;49m\u001b[43mcheck_response\u001b[49m\u001b[43m(\u001b[49m\u001b[43mresponse\u001b[49m\u001b[43m)\u001b[49m\n\u001b[0;32m    355\u001b[0m     response[\u001b[38;5;124m\"\u001b[39m\u001b[38;5;124mvalue\u001b[39m\u001b[38;5;124m\"\u001b[39m] \u001b[38;5;241m=\u001b[39m \u001b[38;5;28mself\u001b[39m\u001b[38;5;241m.\u001b[39m_unwrap_value(response\u001b[38;5;241m.\u001b[39mget(\u001b[38;5;124m\"\u001b[39m\u001b[38;5;124mvalue\u001b[39m\u001b[38;5;124m\"\u001b[39m, \u001b[38;5;28;01mNone\u001b[39;00m))\n",
      "File \u001b[1;32m~\\AppData\\Local\\Packages\\PythonSoftwareFoundation.Python.3.11_qbz5n2kfra8p0\\LocalCache\\local-packages\\Python311\\site-packages\\selenium\\webdriver\\remote\\errorhandler.py:229\u001b[0m, in \u001b[0;36mErrorHandler.check_response\u001b[1;34m(self, response)\u001b[0m\n\u001b[0;32m    228\u001b[0m     \u001b[38;5;28;01mraise\u001b[39;00m exception_class(message, screen, stacktrace, alert_text)  \u001b[38;5;66;03m# type: ignore[call-arg]  # mypy is not smart enough here\u001b[39;00m\n\u001b[1;32m--> 229\u001b[0m \u001b[38;5;28;01mraise\u001b[39;00m exception_class(message, screen, stacktrace)\n",
      "\u001b[1;31mNoSuchElementException\u001b[0m: Message: no such element: Unable to locate element: {\"method\":\"css selector\",\"selector\":\"[name=\"ifrConteudoVisualizacao\"]\"}\n  (Session info: chrome=131.0.6778.205); For documentation on this error, please visit: https://www.selenium.dev/documentation/webdriver/troubleshooting/errors#no-such-element-exception\nStacktrace:\n\tGetHandleVerifier [0x0091EC13+23731]\n\t(No symbol) [0x008AC394]\n\t(No symbol) [0x0078BE63]\n\t(No symbol) [0x007CFCE6]\n\t(No symbol) [0x007CFF2B]\n\t(No symbol) [0x0080D892]\n\t(No symbol) [0x007F1EA4]\n\t(No symbol) [0x0080B46E]\n\t(No symbol) [0x007F1BF6]\n\t(No symbol) [0x007C3F35]\n\t(No symbol) [0x007C4EBD]\n\tGetHandleVerifier [0x00BFF0D3+3039603]\n\tGetHandleVerifier [0x00C12DEA+3120778]\n\tGetHandleVerifier [0x00C0B592+3089970]\n\tGetHandleVerifier [0x009B43B0+635984]\n\t(No symbol) [0x008B4DCD]\n\t(No symbol) [0x008B2068]\n\t(No symbol) [0x008B2205]\n\t(No symbol) [0x008A4FD0]\n\tBaseThreadInitThunk [0x75B27BA9+25]\n\tRtlInitializeExceptionChain [0x7760C0CB+107]\n\tRtlClearBits [0x7760C04F+191]\n",
      "\nThe above exception was the direct cause of the following exception:\n",
      "\u001b[1;31mNoSuchFrameException\u001b[0m                      Traceback (most recent call last)",
      "Cell \u001b[1;32mIn[37], line 108\u001b[0m\n\u001b[0;32m    106\u001b[0m fc\u001b[38;5;241m.\u001b[39mclica_noelemento(navegador, By\u001b[38;5;241m.\u001b[39mXPATH,\u001b[38;5;124m'\u001b[39m\u001b[38;5;124m//*[@id=\u001b[39m\u001b[38;5;124m\"\u001b[39m\u001b[38;5;124mdivInfraBarraComandosSuperior\u001b[39m\u001b[38;5;124m\"\u001b[39m\u001b[38;5;124m]/button\u001b[39m\u001b[38;5;124m'\u001b[39m)\n\u001b[0;32m    107\u001b[0m \u001b[38;5;66;03m#CONCLUI PROCESSO\u001b[39;00m\n\u001b[1;32m--> 108\u001b[0m \u001b[43mnavegador\u001b[49m\u001b[38;5;241;43m.\u001b[39;49m\u001b[43mswitch_to\u001b[49m\u001b[38;5;241;43m.\u001b[39;49m\u001b[43mframe\u001b[49m\u001b[43m(\u001b[49m\u001b[38;5;124;43m'\u001b[39;49m\u001b[38;5;124;43mifrConteudoVisualizacao\u001b[39;49m\u001b[38;5;124;43m'\u001b[39;49m\u001b[43m)\u001b[49m\n\u001b[0;32m    109\u001b[0m fc\u001b[38;5;241m.\u001b[39mclica_noelemento(navegador, By\u001b[38;5;241m.\u001b[39mXPATH, \u001b[38;5;124m\"\u001b[39m\u001b[38;5;124m//img[contains(@src, \u001b[39m\u001b[38;5;124m'\u001b[39m\u001b[38;5;124msvg/processo_concluir.svg?18\u001b[39m\u001b[38;5;124m'\u001b[39m\u001b[38;5;124m)]\u001b[39m\u001b[38;5;124m\"\u001b[39m)\n\u001b[0;32m    110\u001b[0m \u001b[38;5;66;03m#clica_noelemento(navegador, By.XPATH,'//*[@id=\"divArvoreAcoes\"]/a[19]')\u001b[39;00m\n",
      "File \u001b[1;32m~\\AppData\\Local\\Packages\\PythonSoftwareFoundation.Python.3.11_qbz5n2kfra8p0\\LocalCache\\local-packages\\Python311\\site-packages\\selenium\\webdriver\\remote\\switch_to.py:93\u001b[0m, in \u001b[0;36mSwitchTo.frame\u001b[1;34m(self, frame_reference)\u001b[0m\n\u001b[0;32m     91\u001b[0m             frame_reference \u001b[38;5;241m=\u001b[39m \u001b[38;5;28mself\u001b[39m\u001b[38;5;241m.\u001b[39m_driver\u001b[38;5;241m.\u001b[39mfind_element(By\u001b[38;5;241m.\u001b[39mNAME, frame_reference)\n\u001b[0;32m     92\u001b[0m         \u001b[38;5;28;01mexcept\u001b[39;00m NoSuchElementException \u001b[38;5;28;01mas\u001b[39;00m exc:\n\u001b[1;32m---> 93\u001b[0m             \u001b[38;5;28;01mraise\u001b[39;00m NoSuchFrameException(frame_reference) \u001b[38;5;28;01mfrom\u001b[39;00m \u001b[38;5;21;01mexc\u001b[39;00m\n\u001b[0;32m     95\u001b[0m \u001b[38;5;28mself\u001b[39m\u001b[38;5;241m.\u001b[39m_driver\u001b[38;5;241m.\u001b[39mexecute(Command\u001b[38;5;241m.\u001b[39mSWITCH_TO_FRAME, {\u001b[38;5;124m\"\u001b[39m\u001b[38;5;124mid\u001b[39m\u001b[38;5;124m\"\u001b[39m: frame_reference})\n",
      "\u001b[1;31mNoSuchFrameException\u001b[0m: Message: ifrConteudoVisualizacao\n"
     ]
    }
   ],
   "source": [
    "processosAssinados = '53500.062842/2024-66'\n",
    "janela_principal = navegador.current_window_handle\n",
    "textoCancelamento = f\"\"\"Prezado(a) Senhor(a),\n",
    "\n",
    "    Informamos que a solicitação de cancelamento de homologação foi deferida.\n",
    "\n",
    "\n",
    "    FAVOR NÃO RESPONDER ESTE E-MAIL. \n",
    "\n",
    "    \n",
    "\n",
    "    Atenciosamente,\n",
    "\n",
    "    ORCN - Gerência de Certificação e Numeração\n",
    "\n",
    "    SOR - Superintendência de Outorga e Recursos à Prestação\n",
    "\n",
    "    Anatel - Agência Nacional de Telecomunicações\"\"\"\n",
    "\n",
    "print('\\n')\n",
    "print(f'Concluindo processo nº {processosAssinados}')\n",
    "fc.vai_para_processo(navegador, processosAssinados)\n",
    "time.sleep(1)\n",
    "#PEGA DADOS DA DECLARACAO DE CONFORMIDADE\n",
    "navegador.switch_to.frame('ifrArvore')\n",
    "\n",
    "#CONFERE SE EXISTE A DECLARACAO DE CONFORMIDADE OU UMA PASTA\n",
    "if fc.check_element_exists(By.PARTIAL_LINK_TEXT, \"Declaração de Conformidade\", navegador):\n",
    "    navegador.find_element(By.PARTIAL_LINK_TEXT, \"Declaração de Conformidade\").click()\n",
    "    time.sleep(0.3)\n",
    "elif fc.check_element_exists(By.XPATH, '//*[@id=\"spanPASTA1\"]', navegador):\n",
    "    navegador.find_element(By.XPATH, '//*[@id=\"spanPASTA1\"]').click()\n",
    "    time.sleep(1)\n",
    "    navegador.find_element(By.PARTIAL_LINK_TEXT, \"Declaração de Conformidade\").click()\n",
    "    time.sleep(0.3)\n",
    "\n",
    "navegador.switch_to.default_content()\n",
    "navegador.switch_to.frame('ifrConteudoVisualizacao')\n",
    "navegador.switch_to.frame('ifrVisualizacao')\n",
    "\n",
    "#ARMAZENA EMAIL DO SOLICITANTE\n",
    "emailSol = navegador.find_element(By.XPATH, '/html/body/div[3]/a[1]').text\n",
    "\n",
    "navegador.switch_to.default_content()\n",
    "navegador.switch_to.frame('ifrArvore')\n",
    "lista_despachos = navegador.find_elements(By.PARTIAL_LINK_TEXT, 'Despacho Decisório')\n",
    "for i in lista_despachos:\n",
    "    navegador.switch_to.default_content()\n",
    "    navegador.switch_to.frame('ifrArvore')\n",
    "    i.click()\n",
    "    navegador.switch_to.default_content()\n",
    "    navegador.switch_to.frame('ifrConteudoVisualizacao')\n",
    "    navegador.switch_to.frame('ifrVisualizacao')\n",
    "    time.sleep(1)\n",
    "    if fc.check_element_exists(By.XPATH, \"//*[contains(text(), 'Revogar o')]\", navegador):\n",
    "        print('Encontrado despacho de cancelamento')\n",
    "        #VERIFICA SE EXISTE ASSINATURA DO GERENTE\n",
    "        navegador.switch_to.default_content()\n",
    "        navegador.switch_to.frame('ifrConteudoVisualizacao')\n",
    "        navegador.switch_to.frame('ifrVisualizacao')\n",
    "        if fc.check_element_exists(By.XPATH, \"/html/body/div[1]/table[1]\", navegador):\n",
    "            navegador.switch_to.default_content()\n",
    "            navegador.switch_to.frame('ifrConteudoVisualizacao')\n",
    "            #CLICA NO ICONE DE ENVIO DE EMAIL\n",
    "            fc.clica_noelemento(navegador, By.XPATH, \"//img[contains(@src, 'svg/email_enviar.svg?18')]\")\n",
    "            #clica_noelemento(navegador, By.XPATH, '//*[@id=\"divArvoreAcoes\"]/a[10]')\n",
    "            time.sleep(1)\n",
    "            #VAI PARA A JANELA MAIS RECENTE ABERTA\n",
    "            navegador.switch_to.window(navegador.window_handles[-1])\n",
    "            #time.sleep(1)\n",
    "            #ABRE O DROPDOWN COM AS OPCOES DE EMAIL DA ANATEL\n",
    "            select_element = WebDriverWait(navegador, 10).until(EC.presence_of_element_located((By.XPATH, '//*[@id=\"selDe\"]')))\n",
    "            select = Select(select_element)\n",
    "            #SELECIONA O EMAIL DA ANATEL\n",
    "            select.select_by_visible_text('ANATEL/E-mail de replicação <nao-responda@anatel.gov.br>')\n",
    "            #ESCREVE O EMAIL DO SOLICITANTE\n",
    "            navegador.find_element(By.XPATH, '//*[@id=\"s2id_autogen1\"]').send_keys(emailSol)\n",
    "            time.sleep(1.2)\n",
    "            #CLICA NO EMAIL DO SOLICITANTE\n",
    "            fc.clica_noelemento(navegador, By.CLASS_NAME, 'select2-result-label')\n",
    "            #INSERE ASSUNTO DO PROCESO\n",
    "            navegador.find_element(By.ID, 'txtAssunto').send_keys(f\"Processo SEI nº {processosAssinados}\")\n",
    "            #INSERE EMAIL COM CORPO DO EMAIL\n",
    "            navegador.find_element(By.ID, 'txaMensagem').send_keys(textoCancelamento)\n",
    "            #ENVIA EMAIL\n",
    "            fc.clica_noelemento(navegador, By.XPATH,'//*[@id=\"divInfraBarraComandosInferior\"]/button[1]')\n",
    "            # navegador.find_element(By.XPATH, '//*[@id=\"divInfraBarraComandosInferior\"]/button[1]').click()\n",
    "            #FECHA ALERTA DO NAVEGADOR\n",
    "            alert = Alert(navegador)\n",
    "            alert.accept()\n",
    "\n",
    "            #RETORNA PARA A JANELA PRINCIPAL\n",
    "            navegador.switch_to.window(janela_principal)\n",
    "            fc.vai_para_processo(navegador, processosAssinados)\n",
    "            time.sleep(1)\n",
    "            #CLICA NO ICONE DE ANOTACAO\n",
    "            navegador.switch_to.frame('ifrConteudoVisualizacao')\n",
    "            #time.sleep(1)\n",
    "            fc.clica_noelemento(navegador, By.XPATH, \"//img[contains(@src, 'svg/anotacao_cadastro.svg?18')]\")\n",
    "            #navegador.find_element(By.XPATH, '//*[@id=\"divArvoreAcoes\"]/a[17]').click()\n",
    "            #LIMPA O TEXTO DA ANOTACAO\n",
    "            time.sleep(0.3)\n",
    "            navegador.switch_to.frame('ifrVisualizacao')\n",
    "            navegador.find_element(By.XPATH, '//*[@id=\"txaDescricao\"]').clear()\n",
    "            #SALVA ANOTACAO\n",
    "            fc.clica_noelemento(navegador, By.XPATH,'//*[@id=\"divInfraBarraComandosSuperior\"]/button')\n",
    "            #CONCLUI PROCESSO\n",
    "            navegador.switch_to.default_content\n",
    "            navegador.switch_to.frame('ifrConteudoVisualizacao')\n",
    "            fc.clica_noelemento(navegador, By.XPATH, \"//img[contains(@src, 'svg/processo_concluir.svg?18')]\")\n",
    "            #clica_noelemento(navegador, By.XPATH,'//*[@id=\"divArvoreAcoes\"]/a[19]')\n",
    "            navegador.switch_to.frame('ifrVisualizacao')\n",
    "            fc.clica_noelemento(navegador, By.XPATH, '//*[@id=\"sbmSalvar\"]')\n",
    "            # navegador.find_element(By.XPATH, '//*[@id=\"divArvoreAcoes\"]/a[20]').click()\n",
    "            print(f\"Processo nº {processosAssinados}\")\n",
    "            time.sleep(0.3)\n",
    "            navegador.switch_to.default_content()\n",
    "        else:\n",
    "            print(f\"O despacho de cancelamento do processo {processosAssinados} ainda não foi assinado, execute o script novamente após conter a assinatura do gerente.\")"
   ]
  },
  {
   "cell_type": "code",
   "execution_count": 84,
   "metadata": {},
   "outputs": [],
   "source": [
    "import pygetwindow as gw\n",
    "\n",
    "def muda_janela(janela: str):\n",
    "    # Lista todas as janelas abertas\n",
    "    windows = gw.getAllTitles()\n",
    "\n",
    "    # Filtra janelas válidas (não-vazias)\n",
    "    windows = [w for w in windows if w]\n",
    "\n",
    "    for i in range(len(windows)):\n",
    "        if janela in windows[i]:\n",
    "            window_to_activate = i\n",
    "    window = gw.getWindowsWithTitle(windows[window_to_activate])[0]\n",
    "    window.activate()\n",
    "    window.maximize()\n",
    "# Alternar para uma janela específica\n",
    "# window_to_activate = int(input(\"Digite o número da janela para ativar: \"))\n",
    "# window = gw.getWindowsWithTitle(windows[window_to_activate])[0]\n",
    "# window.activate()\n"
   ]
  },
  {
   "cell_type": "code",
   "execution_count": 89,
   "metadata": {},
   "outputs": [],
   "source": [
    "muda_janela('Distribuição Processo Drone.xlsx')"
   ]
  },
  {
   "cell_type": "code",
   "execution_count": 71,
   "metadata": {},
   "outputs": [
    {
     "data": {
      "text/plain": [
       "<Popen: returncode: None args: ['C:\\\\Program Files (x86)\\\\Microsoft\\\\Edge\\\\A...>"
      ]
     },
     "execution_count": 71,
     "metadata": {},
     "output_type": "execute_result"
    }
   ],
   "source": [
    "import subprocess\n",
    "\n",
    "# Abre o Edge\n",
    "subprocess.Popen([\"C:\\\\Program Files (x86)\\\\Microsoft\\\\Edge\\\\Application\\\\msedge.exe\"])\n",
    "\n"
   ]
  },
  {
   "cell_type": "code",
   "execution_count": 16,
   "metadata": {},
   "outputs": [
    {
     "name": "stdout",
     "output_type": "stream",
     "text": [
      "Célula encontrada: Exigência\n"
     ]
    }
   ],
   "source": [
    "#VOLTA PARA PAGINA INICIAL DO PROCESSO\n",
    "fc.retorna_pagina_inicial(navegador, processo)\n",
    "time.sleep(1)\n",
    "#ADICIONA NOTA PARA AGUARDAR ASSINATURA\n",
    "#CLICA NO ICONE DE ANOTACAO\n",
    "navegador.switch_to.default_content()\n",
    "navegador.switch_to.frame('ifrConteudoVisualizacao')\n",
    "fc.clica_noelemento(navegador, By.XPATH, \"//img[contains(@src, 'svg/anotacao_cadastro.svg?18')]\")\n",
    "#clica_noelemento(navegador, By.XPATH,'//*[@id=\"divArvoreAcoes\"]/a[16]')\n",
    "time.sleep(0.1)\n",
    "#INSERE O TEXTO DA ANOTACAO\n",
    "navegador.switch_to.frame('ifrVisualizacao')\n",
    "navegador.find_element(By.ID, 'txaDescricao').send_keys('Pedido de Cancelamento')\n",
    "#SALVA O TEXTO\n",
    "navegador.find_element(By.NAME, 'sbmRegistrarAnotacao').click()\n",
    "#DA COMO APROVADO E ANOTA NO TXT DE PROCESSOS CONFORMES\n",
    "fc.preenche_planilhageral(processo, 'André Jacinto Rodrigues', situacao=\"Cancelado\")"
   ]
  },
  {
   "cell_type": "code",
   "execution_count": 24,
   "metadata": {},
   "outputs": [],
   "source": [
    "def reabre_processo():\n",
    "    navegador.switch_to.default_content()\n",
    "    navegador.switch_to.frame('ifrConteudoVisualizacao')\n",
    "    if fc.check_element_exists(By.XPATH, \"//img[contains(@src, 'svg/processo_reabrir.svg?18')]\", navegador):\n",
    "        navegador.find_element(By.XPATH, \"//img[contains(@src, 'svg/processo_reabrir.svg?18')]\").click()\n",
    "        print('Processo foi aberto novamente')\n",
    "        return True\n",
    "    else:\n",
    "        return False\n",
    "    \n",
    "def fecha_processo():\n",
    "    navegador.switch_to.default_content()\n",
    "    navegador.switch_to.frame('ifrConteudoVisualizacao')\n",
    "    try:\n",
    "        navegador.find_element(By.XPATH, \"//img[contains(@src, 'svg/processo_concluir.svg?18')]\").click()\n",
    "        navegador.switch_to.frame('ifrVisualizacao')\n",
    "        fc.clica_noelemento(navegador, By.XPATH, '//*[@id=\"sbmSalvar\"]')\n",
    "    except:\n",
    "        pass\n"
   ]
  },
  {
   "cell_type": "code",
   "execution_count": 29,
   "metadata": {},
   "outputs": [
    {
     "name": "stdout",
     "output_type": "stream",
     "text": [
      "Processo foi aberto novamente\n"
     ]
    }
   ],
   "source": [
    "processo_reaberto = reabre_processo()"
   ]
  },
  {
   "cell_type": "code",
   "execution_count": 30,
   "metadata": {},
   "outputs": [],
   "source": [
    "if processo_reaberto:\n",
    "    fecha_processo()"
   ]
  },
  {
   "cell_type": "code",
   "execution_count": 14,
   "metadata": {},
   "outputs": [
    {
     "name": "stdout",
     "output_type": "stream",
     "text": [
      "processo achado\n"
     ]
    }
   ],
   "source": [
    "\n",
    "navegador.switch_to.default_content()\n",
    "navegador.switch_to.frame('ifrArvore')\n",
    "lista_despachos = navegador.find_elements(By.PARTIAL_LINK_TEXT, 'Despacho Decisório')\n",
    "for i in lista_despachos:\n",
    "    navegador.switch_to.default_content()\n",
    "    navegador.switch_to.frame('ifrArvore')\n",
    "    i.click()\n",
    "    navegador.switch_to.default_content()\n",
    "    navegador.switch_to.frame('ifrConteudoVisualizacao')\n",
    "    navegador.switch_to.frame('ifrVisualizacao')\n",
    "    time.sleep(1)\n",
    "    if fc.check_element_exists(By.XPATH, \"//*[contains(text(), 'Revogar o')]\", navegador):\n",
    "        navegador.switch_to.default_content()\n",
    "        navegador.switch_to.frame('ifrConteudoVisualizacao')\n",
    "        print('processo achado')\n",
    "        time.sleep(1)\n",
    "        #CLICA NO ICONE DE LEGO\n",
    "        fc.clica_noelemento(navegador, By.XPATH, \"//img[contains(@src, 'svg/bloco_incluir_protocolo.svg?18')]\")\n",
    "        \n",
    "        #navegador.find_element(By.XPATH, '//*[@id=\"divArvoreAcoes\"]/a[8]').click()\n",
    "        #SELECIONA BLOCO (SELECIONA O PRIMEIRO DESPACHO PARA DRONES APROVADOS QUE LER)\n",
    "        time.sleep(1.5)\n",
    "        navegador.switch_to.frame('ifrVisualizacao')\n",
    "        select_element = navegador.find_element(By.ID, 'selBloco')\n",
    "        select = Select(select_element)\n",
    "        #PROCURA O PRIMEIRO BLOCO QUE TENHA O TEXTO \"Despachos para Drones aprovados\"\n",
    "        for opcao in select.options:\n",
    "            if \"Despachos para Drones aprovados\" in opcao.text:\n",
    "                select.select_by_visible_text(opcao.text)\n",
    "                break\n",
    "        time.sleep(0.5)\n",
    "        #CLICA NO BOTAO DE INCLUIR NO BLOCO\n",
    "        fc.clica_noelemento(navegador, By.XPATH,'//*[@id=\"sbmIncluir\"]')\n",
    "        #navegador.find_element(By.XPATH, '//*[@id=\"sbmIncluir\"]').click()\n",
    "        \n",
    "\n"
   ]
  },
  {
   "cell_type": "code",
   "execution_count": 15,
   "metadata": {},
   "outputs": [],
   "source": [
    "#VOLTA PARA PAGINA INICIAL DO PROCESSO\n",
    "navegador.switch_to.default_content()\n",
    "navegador.find_element(By.ID,'txtPesquisaRapida').send_keys('53500.047484/2024-61')\n",
    "elementos = navegador.find_element(By.ID,'txtPesquisaRapida')\n",
    "elementos.send_keys(Keys.ENTER)\n",
    "navegador.switch_to.frame('ifrConteudoVisualizacao')\n",
    "time.sleep(1)\n",
    "#ADICIONA NOTA PARA AGUARDAR ASSINATURA\n",
    "#CLICA NO ICONE DE ANOTACAO\n",
    "fc.clica_noelemento(navegador, By.XPATH, \"//img[contains(@src, 'svg/anotacao_cadastro.svg?18')]\")\n",
    "#clica_noelemento(navegador, By.XPATH,'//*[@id=\"divArvoreAcoes\"]/a[16]')\n",
    "time.sleep(0.1)\n",
    "#INSERE O TEXTO DA ANOTACAO\n",
    "navegador.switch_to.frame('ifrVisualizacao')\n",
    "navegador.find_element(By.ID, 'txaDescricao').send_keys('Pedido de Cancelamento')\n",
    "#SALVA O TEXTO\n",
    "navegador.find_element(By.NAME, 'sbmRegistrarAnotacao').click()\n",
    "#DA COMO APROVADO E ANOTA NO TXT DE PROCESSOS CONFORMES"
   ]
  },
  {
   "cell_type": "code",
   "execution_count": null,
   "metadata": {},
   "outputs": [],
   "source": []
  },
  {
   "cell_type": "code",
   "execution_count": 16,
   "metadata": {},
   "outputs": [
    {
     "name": "stdout",
     "output_type": "stream",
     "text": [
      "Célula encontrada: nan\n"
     ]
    }
   ],
   "source": [
    "fc.preenche_planilhageral('53500.047484/2024-61', 'André Jacinto Rodrigues', 'Não', 'Cancelado', '', 'Ademir Camargo')"
   ]
  }
 ],
 "metadata": {
  "kernelspec": {
   "display_name": "Python 3",
   "language": "python",
   "name": "python3"
  },
  "language_info": {
   "codemirror_mode": {
    "name": "ipython",
    "version": 3
   },
   "file_extension": ".py",
   "mimetype": "text/x-python",
   "name": "python",
   "nbconvert_exporter": "python",
   "pygments_lexer": "ipython3",
   "version": "3.11.9"
  }
 },
 "nbformat": 4,
 "nbformat_minor": 2
}
