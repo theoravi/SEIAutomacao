{
 "cells": [
  {
   "cell_type": "code",
   "execution_count": 1,
   "metadata": {},
   "outputs": [],
   "source": [
    "import funcoes as fc\n",
    "import numpy as np\n",
    "import os\n",
    "import pandas as pd\n",
    "import pyautogui\n",
    "import pyperclip\n",
    "import time\n",
    "import tkinter as tk\n",
    "import undetected_chromedriver as uc\n",
    "from datetime import datetime\n",
    "from selenium import webdriver\n",
    "from selenium.webdriver.chrome.service import Service\n",
    "from selenium.webdriver.chrome.options import Options\n",
    "from selenium.webdriver.common.alert import Alert\n",
    "from selenium.webdriver.common.by import By\n",
    "from selenium.webdriver.common.keys import Keys\n",
    "from selenium.webdriver.support.ui import Select\n",
    "from selenium.common.exceptions import NoSuchElementException\n",
    "from selenium.common.exceptions import TimeoutException\n",
    "from selenium.webdriver.support.ui import WebDriverWait\n",
    "from selenium.webdriver.support import expected_conditions as EC\n",
    "from tabulate import tabulate\n",
    "from tkinter import scrolledtext\n",
    "from webdriver_manager.chrome import ChromeDriverManager"
   ]
  },
  {
   "cell_type": "code",
   "execution_count": 10,
   "metadata": {},
   "outputs": [],
   "source": [
    "#INSTALA O CHROME DRIVEr MAIS ATUALIZADO\n",
    "# Desativa o bloqueio de pop-ups\n",
    "options = webdriver.ChromeOptions()\n",
    "options.add_argument(\"--disable-popup-blocking\") \n",
    "#DEFINE O TEMPO DE EXECUÇÃO PARA CADA COMANDO DO PYAUTOGUI\n",
    "pyautogui.PAUSE = 0.7\n",
    "#INICIA O NAVEGADOR\n",
    "# Caminho do ChromeDriver local\n",
    "# chrome_driver_path = r\"main\\chromedriver-win64\\chromedriver.exe\"  # Altere para o caminho correto do seu ChromeDriver\n",
    "# Configura o serviço do ChromeDriver\n",
    "servico = Service(ChromeDriverManager().install())\n",
    "# Inicia o navegador Chrome\n",
    "navegador = webdriver.Chrome(service=servico, options=options)\n",
    "navegador.maximize_window()\n",
    "#ENTRA NO SEI\n",
    "navegador.get('https://sei.anatel.gov.br/')\n"
   ]
  },
  {
   "cell_type": "code",
   "execution_count": 21,
   "metadata": {},
   "outputs": [
    {
     "name": "stdout",
     "output_type": "stream",
     "text": [
      "exigencia\n"
     ]
    }
   ],
   "source": [
    "tipoExig = 5\n",
    "navegador.switch_to.default_content()\n",
    "#VOLTA PARA A PAGINA INICIAL DO PROCESSO\n",
    "navegador.find_element(By.ID,'txtPesquisaRapida').send_keys('53500.102820/2024-46') \n",
    "elementos = navegador.find_element(By.ID,'txtPesquisaRapida')\n",
    "elementos.send_keys(Keys.ENTER)    \n",
    "time.sleep(1)\n",
    "navegador.switch_to.frame('ifrConteudoVisualizacao')\n",
    "#CLICA NO ICONE DE TAG\n",
    "time.sleep(0.5)\n",
    "navegador.find_element(By.XPATH, \"//img[contains(@src, 'svg/marcador_gerenciar.svg?18')]\").click()\n",
    "navegador.switch_to.frame('ifrVisualizacao')\n",
    "navegador.find_element(By.XPATH, '//*[@id=\"selMarcador\"]/div/a').click()\n",
    "time.sleep(0.5)\n",
    "if tipoExig == 1:\n",
    "    #CLICA NA TAG DE INTERCORRENTE\n",
    "    navegador.find_element(By.PARTIAL_LINK_TEXT, 'Processo SEI ORCN - Intercorrente').click()\n",
    "else:\n",
    "    #CLICA NA TAG DE PENDENCIA\n",
    "    navegador.find_element(By.PARTIAL_LINK_TEXT, 'Processo SEI ORCN - Pendência').click()\n",
    "    print('exigencia')"
   ]
  },
  {
   "cell_type": "code",
   "execution_count": 3,
   "metadata": {},
   "outputs": [
    {
     "name": "stdout",
     "output_type": "stream",
     "text": [
      "processo reaberto\n"
     ]
    }
   ],
   "source": [
    "navegador.switch_to.default_content()\n",
    "navegador.switch_to.frame('ifrArvore')\n",
    "\n",
    "if fc.check_element_exists(By.PARTIAL_LINK_TEXT, 'Despacho Decisório', navegador) and not fc.check_element_exists(By.XPATH, \"//img[contains(@src, 'svg/marcador_verde.svg?18')]\", navegador):\n",
    "    print(\"O processo já foi despachado!\")\n",
    "    \n",
    "elif fc.check_element_exists(By.PARTIAL_LINK_TEXT, 'Despacho Decisório', navegador) and fc.check_element_exists(By.XPATH, \"//img[contains(@src, 'svg/marcador_verde.svg?18')]\", navegador):\n",
    "    tipo_processo = 'Reaberto'\n",
    "    print('processo reaberto')"
   ]
  },
  {
   "cell_type": "code",
   "execution_count": 8,
   "metadata": {},
   "outputs": [],
   "source": [
    "planilhaDrones = f\"C:\\\\Users\\\\andrej.estagio\\\\ANATEL\\\\ORCN - Drones\\\\Lista de Drones Anatel_Corrigida.xlsx\"\n",
    "planilhaRadios = f\"C:\\\\Users\\\\andrej.estagio\\\\ANATEL\\\\ORCN - Rádios\\\\Lista Radiamador.xlsx\""
   ]
  },
  {
   "cell_type": "code",
   "execution_count": 9,
   "metadata": {},
   "outputs": [
    {
     "name": "stdout",
     "output_type": "stream",
     "text": [
      "Não foi possível encontrar a Declaração de Conformidade.\n",
      "Célula encontrada: 53500.104031/2024-40\n"
     ]
    }
   ],
   "source": [
    "fc.analisa(navegador, '53500.104031/2024-40', 'André Jacinto Rodrigues', fc.corrige_planilha(planilhaDrones, True), fc.corrige_planilha(planilhaRadios, False))"
   ]
  },
  {
   "cell_type": "code",
   "execution_count": 11,
   "metadata": {},
   "outputs": [],
   "source": [
    "processo = '53500.070427/2024-86'"
   ]
  },
  {
   "cell_type": "code",
   "execution_count": 14,
   "metadata": {},
   "outputs": [
    {
     "name": "stdout",
     "output_type": "stream",
     "text": [
      "Despacho Decisório de Cancelamento encontrado.\n",
      "\n"
     ]
    }
   ],
   "source": [
    "fc.retorna_pagina_inicial(navegador, processo)\n",
    "navegador.switch_to.default_content()\n",
    "navegador.switch_to.frame('ifrArvore')\n",
    "lista_despachos = navegador.find_elements(By.PARTIAL_LINK_TEXT, 'Despacho Decisório')\n",
    "for i in lista_despachos:\n",
    "    navegador.switch_to.default_content()\n",
    "    navegador.switch_to.frame('ifrArvore')\n",
    "    i.click()\n",
    "    navegador.switch_to.default_content()\n",
    "    navegador.switch_to.frame('ifrConteudoVisualizacao')\n",
    "    navegador.switch_to.frame('ifrVisualizacao')\n",
    "    time.sleep(1)\n",
    "    if fc.check_element_exists(By.XPATH, \"//*[contains(text(), 'Revogar o')]\", navegador):\n",
    "        navegador.switch_to.default_content()\n",
    "        navegador.switch_to.frame('ifrConteudoVisualizacao')\n",
    "        print('Despacho Decisório de Cancelamento encontrado.\\n')\n",
    "\n",
    "        time.sleep(1)\n",
    "        #CLICA NO ICONE DE LEGO\n",
    "        fc.clica_noelemento(navegador, By.XPATH, \"//img[contains(@src, 'svg/bloco_incluir_protocolo.svg?18')]\")\n",
    "        \n",
    "        #SELECIONA BLOCO (SELECIONA O PRIMEIRO DESPACHO PARA DRONES APROVADOS QUE LER)\n",
    "        time.sleep(1.5)\n",
    "        navegador.switch_to.frame('ifrVisualizacao')\n",
    "        select_element = navegador.find_element(By.ID, 'selBloco')\n",
    "        select = Select(select_element)\n",
    "        #PROCURA O PRIMEIRO BLOCO QUE TENHA O TEXTO \"Despachos para Drones aprovados\"\n",
    "        for opcao in select.options:\n",
    "            if \"Despachos para Drones aprovados\" in opcao.text:\n",
    "                select.select_by_visible_text(opcao.text)\n",
    "                break\n",
    "        time.sleep(0.5)\n",
    "        #CLICA NO BOTAO DE INCLUIR NO BLOCO\n",
    "        fc.clica_noelemento(navegador, By.XPATH,'//*[@id=\"sbmIncluir\"]')\n",
    "        #navegador.find_element(By.XPATH, '//*[@id=\"sbmIncluir\"]').click()\n",
    "\n",
    "\n",
    "\n",
    "\n"
   ]
  },
  {
   "cell_type": "code",
   "execution_count": 16,
   "metadata": {},
   "outputs": [
    {
     "name": "stdout",
     "output_type": "stream",
     "text": [
      "Célula encontrada: Exigência\n"
     ]
    }
   ],
   "source": [
    "#VOLTA PARA PAGINA INICIAL DO PROCESSO\n",
    "fc.retorna_pagina_inicial(navegador, processo)\n",
    "time.sleep(1)\n",
    "#ADICIONA NOTA PARA AGUARDAR ASSINATURA\n",
    "#CLICA NO ICONE DE ANOTACAO\n",
    "navegador.switch_to.default_content()\n",
    "navegador.switch_to.frame('ifrConteudoVisualizacao')\n",
    "fc.clica_noelemento(navegador, By.XPATH, \"//img[contains(@src, 'svg/anotacao_cadastro.svg?18')]\")\n",
    "#clica_noelemento(navegador, By.XPATH,'//*[@id=\"divArvoreAcoes\"]/a[16]')\n",
    "time.sleep(0.1)\n",
    "#INSERE O TEXTO DA ANOTACAO\n",
    "navegador.switch_to.frame('ifrVisualizacao')\n",
    "navegador.find_element(By.ID, 'txaDescricao').send_keys('Pedido de Cancelamento')\n",
    "#SALVA O TEXTO\n",
    "navegador.find_element(By.NAME, 'sbmRegistrarAnotacao').click()\n",
    "#DA COMO APROVADO E ANOTA NO TXT DE PROCESSOS CONFORMES\n",
    "fc.preenche_planilhageral(processo, 'André Jacinto Rodrigues', situacao=\"Cancelado\")"
   ]
  },
  {
   "cell_type": "code",
   "execution_count": 8,
   "metadata": {},
   "outputs": [],
   "source": [
    "#CLICA NA OPCAO DE DESPACHO DECISORIO\n",
    "navegador.switch_to.frame('ifrVisualizacao')\n",
    "fc.clica_noelemento(navegador, By.PARTIAL_LINK_TEXT,'Despacho Decisório')\n",
    "#navegador.find_element(By.XPATH,'//*[@id=\"tblSeries\"]/tbody/tr[16]/td/a[2]').click()\n",
    "#time.sleep(2)\n",
    "#SELECIONA TEXTO PADRAO"
   ]
  },
  {
   "cell_type": "code",
   "execution_count": 9,
   "metadata": {},
   "outputs": [],
   "source": [
    "fc.clica_noelemento(navegador, By.XPATH,'//*[@id=\"divOptTextoPadrao\"]/div')\n",
    "#navegador.find_element(By.XPATH,'//*[@id=\"divOptTextoPadrao\"]/div').click()\n",
    "#time.sleep(2)\n",
    "#ENVIA QUAL DESPACHO DECISORIO DEVE SER CRIADO"
   ]
  },
  {
   "cell_type": "code",
   "execution_count": 10,
   "metadata": {},
   "outputs": [],
   "source": [
    "navegador.find_element(By.XPATH,'//*[@id=\"txtTextoPadrao\"]').send_keys('Despacho Decisório - Cancelamento de Homologação')\n",
    "#time.sleep(2)"
   ]
  },
  {
   "cell_type": "code",
   "execution_count": 11,
   "metadata": {},
   "outputs": [],
   "source": [
    "#CLICA NA PRIMEIRA OPCAO\n",
    "fc.clica_noelemento(navegador, By.XPATH,'//*[@id=\"divInfraAjaxtxtTextoPadrao\"]/ul/li/a')"
   ]
  },
  {
   "cell_type": "code",
   "execution_count": 12,
   "metadata": {},
   "outputs": [],
   "source": [
    "#COLOCA O DESPACHO COMO PUBLICO\n",
    "fc.clica_noelemento(navegador, By.XPATH,'//*[@id=\"divOptPublico\"]/div')"
   ]
  },
  {
   "cell_type": "code",
   "execution_count": 13,
   "metadata": {},
   "outputs": [],
   "source": [
    "#SALVA DESPACHO\n",
    "fc.clica_noelemento(navegador, By.ID,'btnSalvar')"
   ]
  },
  {
   "cell_type": "code",
   "execution_count": 14,
   "metadata": {},
   "outputs": [
    {
     "name": "stdout",
     "output_type": "stream",
     "text": [
      "processo achado\n"
     ]
    }
   ],
   "source": [
    "\n",
    "navegador.switch_to.default_content()\n",
    "navegador.switch_to.frame('ifrArvore')\n",
    "lista_despachos = navegador.find_elements(By.PARTIAL_LINK_TEXT, 'Despacho Decisório')\n",
    "for i in lista_despachos:\n",
    "    navegador.switch_to.default_content()\n",
    "    navegador.switch_to.frame('ifrArvore')\n",
    "    i.click()\n",
    "    navegador.switch_to.default_content()\n",
    "    navegador.switch_to.frame('ifrConteudoVisualizacao')\n",
    "    navegador.switch_to.frame('ifrVisualizacao')\n",
    "    time.sleep(1)\n",
    "    if fc.check_element_exists(By.XPATH, \"//*[contains(text(), 'Revogar o')]\", navegador):\n",
    "        navegador.switch_to.default_content()\n",
    "        navegador.switch_to.frame('ifrConteudoVisualizacao')\n",
    "        print('processo achado')\n",
    "        time.sleep(1)\n",
    "        #CLICA NO ICONE DE LEGO\n",
    "        fc.clica_noelemento(navegador, By.XPATH, \"//img[contains(@src, 'svg/bloco_incluir_protocolo.svg?18')]\")\n",
    "        \n",
    "        #navegador.find_element(By.XPATH, '//*[@id=\"divArvoreAcoes\"]/a[8]').click()\n",
    "        #SELECIONA BLOCO (SELECIONA O PRIMEIRO DESPACHO PARA DRONES APROVADOS QUE LER)\n",
    "        time.sleep(1.5)\n",
    "        navegador.switch_to.frame('ifrVisualizacao')\n",
    "        select_element = navegador.find_element(By.ID, 'selBloco')\n",
    "        select = Select(select_element)\n",
    "        #PROCURA O PRIMEIRO BLOCO QUE TENHA O TEXTO \"Despachos para Drones aprovados\"\n",
    "        for opcao in select.options:\n",
    "            if \"Despachos para Drones aprovados\" in opcao.text:\n",
    "                select.select_by_visible_text(opcao.text)\n",
    "                break\n",
    "        time.sleep(0.5)\n",
    "        #CLICA NO BOTAO DE INCLUIR NO BLOCO\n",
    "        fc.clica_noelemento(navegador, By.XPATH,'//*[@id=\"sbmIncluir\"]')\n",
    "        #navegador.find_element(By.XPATH, '//*[@id=\"sbmIncluir\"]').click()\n",
    "        \n",
    "\n"
   ]
  },
  {
   "cell_type": "code",
   "execution_count": 15,
   "metadata": {},
   "outputs": [],
   "source": [
    "#VOLTA PARA PAGINA INICIAL DO PROCESSO\n",
    "navegador.switch_to.default_content()\n",
    "navegador.find_element(By.ID,'txtPesquisaRapida').send_keys('53500.047484/2024-61')\n",
    "elementos = navegador.find_element(By.ID,'txtPesquisaRapida')\n",
    "elementos.send_keys(Keys.ENTER)\n",
    "navegador.switch_to.frame('ifrConteudoVisualizacao')\n",
    "time.sleep(1)\n",
    "#ADICIONA NOTA PARA AGUARDAR ASSINATURA\n",
    "#CLICA NO ICONE DE ANOTACAO\n",
    "fc.clica_noelemento(navegador, By.XPATH, \"//img[contains(@src, 'svg/anotacao_cadastro.svg?18')]\")\n",
    "#clica_noelemento(navegador, By.XPATH,'//*[@id=\"divArvoreAcoes\"]/a[16]')\n",
    "time.sleep(0.1)\n",
    "#INSERE O TEXTO DA ANOTACAO\n",
    "navegador.switch_to.frame('ifrVisualizacao')\n",
    "navegador.find_element(By.ID, 'txaDescricao').send_keys('Pedido de Cancelamento')\n",
    "#SALVA O TEXTO\n",
    "navegador.find_element(By.NAME, 'sbmRegistrarAnotacao').click()\n",
    "#DA COMO APROVADO E ANOTA NO TXT DE PROCESSOS CONFORMES"
   ]
  },
  {
   "cell_type": "code",
   "execution_count": null,
   "metadata": {},
   "outputs": [],
   "source": []
  },
  {
   "cell_type": "code",
   "execution_count": 16,
   "metadata": {},
   "outputs": [
    {
     "name": "stdout",
     "output_type": "stream",
     "text": [
      "Célula encontrada: nan\n"
     ]
    }
   ],
   "source": [
    "fc.preenche_planilhageral('53500.047484/2024-61', 'André Jacinto Rodrigues', 'Não', 'Cancelado', '', 'Ademir Camargo')"
   ]
  }
 ],
 "metadata": {
  "kernelspec": {
   "display_name": "Python 3",
   "language": "python",
   "name": "python3"
  },
  "language_info": {
   "codemirror_mode": {
    "name": "ipython",
    "version": 3
   },
   "file_extension": ".py",
   "mimetype": "text/x-python",
   "name": "python",
   "nbconvert_exporter": "python",
   "pygments_lexer": "ipython3",
   "version": "3.11.9"
  }
 },
 "nbformat": 4,
 "nbformat_minor": 2
}
