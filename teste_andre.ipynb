{
 "cells": [
  {
   "cell_type": "code",
   "execution_count": 1,
   "metadata": {},
   "outputs": [],
   "source": [
    "import funcoes as fc\n",
    "import numpy as np\n",
    "import os\n",
    "import pandas as pd\n",
    "import pyautogui\n",
    "import pyperclip\n",
    "import time\n",
    "import tkinter as tk\n",
    "import undetected_chromedriver as uc\n",
    "from datetime import datetime\n",
    "from selenium import webdriver\n",
    "from selenium.webdriver.chrome.service import Service\n",
    "from selenium.webdriver.chrome.options import Options\n",
    "from selenium.webdriver.common.alert import Alert\n",
    "from selenium.webdriver.common.by import By\n",
    "from selenium.webdriver.common.keys import Keys\n",
    "from selenium.webdriver.support.ui import Select\n",
    "from selenium.common.exceptions import NoSuchElementException\n",
    "from selenium.common.exceptions import TimeoutException\n",
    "from selenium.webdriver.support.ui import WebDriverWait\n",
    "from selenium.webdriver.support import expected_conditions as EC\n",
    "from tabulate import tabulate\n",
    "from tkinter import scrolledtext\n",
    "from webdriver_manager.chrome import ChromeDriverManager"
   ]
  },
  {
   "cell_type": "code",
   "execution_count": 2,
   "metadata": {},
   "outputs": [],
   "source": [
    "#INSTALA O CHROME DRIVEr MAIS ATUALIZADO\n",
    "# Desativa o bloqueio de pop-ups\n",
    "options = webdriver.ChromeOptions()\n",
    "options.add_argument(\"--disable-popup-blocking\") \n",
    "#DEFINE O TEMPO DE EXECUÇÃO PARA CADA COMANDO DO PYAUTOGUI\n",
    "pyautogui.PAUSE = 0.7\n",
    "#INICIA O NAVEGADOR\n",
    "# Caminho do ChromeDriver local\n",
    "# chrome_driver_path = r\"main\\chromedriver-win64\\chromedriver.exe\"  # Altere para o caminho correto do seu ChromeDriver\n",
    "# Configura o serviço do ChromeDriver\n",
    "servico = Service(ChromeDriverManager().install())\n",
    "# Inicia o navegador Chrome\n",
    "navegador = webdriver.Chrome(service=servico, options=options)\n",
    "navegador.maximize_window()\n",
    "#ENTRA NO SEI\n",
    "navegador.get('https://sei.anatel.gov.br/')\n"
   ]
  },
  {
   "cell_type": "code",
   "execution_count": 8,
   "metadata": {},
   "outputs": [],
   "source": [
    "def get_text():\n",
    "    #ENVIA TEXTO DO INPUT\n",
    "    global texto_exigencia\n",
    "    texto_exigencia = text_area.get(\"1.0\", tk.END).strip()\n",
    "    #FECHA A JANELA DE INPUT\n",
    "    root.destroy()\n",
    "\n",
    "#INICIALIZA A VARIAVEL LOCAL QUE RECEBERA O TEXTO DE INPUT\n",
    "texto_exigencia = \"\"\n",
    "\n",
    "#CRIA A JANELA DA INTERFACE PARA CAIXA DE INPUT\n",
    "root = tk.Tk()\n",
    "root.title(\"Inserir Texto de Exigência\")\n",
    "\n",
    "#INSTRUCAO DO QUE O USUARIO DEVE FAZER\n",
    "label_instruction = tk.Label(root, text=\"Insira apenas a exigência:\")\n",
    "label_instruction.pack(padx=10, pady=5)\n",
    "\n",
    "#CRIA AREA DE TEXTO COM ROLAGEM\n",
    "text_area = scrolledtext.ScrolledText(root, wrap=tk.WORD, width=80, height=20)\n",
    "text_area.pack(padx=10, pady=10)\n",
    "\n",
    "#CRIA BOTAO DE RECEBER O TEXTO\n",
    "btn_get_text = tk.Button(root, text=\"Obter Texto\", command=get_text)\n",
    "btn_get_text.pack(pady=5)\n",
    "\n",
    "root.bind('<Control-Return>', lambda event: get_text())\n",
    "\n",
    "#INICIA O LOOP PRINCIPAL QUE MANTEM A JANELA ATIVA\n",
    "root.mainloop()"
   ]
  },
  {
   "cell_type": "code",
   "execution_count": 12,
   "metadata": {},
   "outputs": [],
   "source": [
    "import pygetwindow as gw\n",
    "\n",
    "def muda_janela(janela: str):\n",
    "    # Lista todas as janelas abertas\n",
    "    windows = gw.getAllTitles()\n",
    "\n",
    "    # Filtra janelas válidas (não-vazias)\n",
    "    windows = [w for w in windows if w]\n",
    "\n",
    "    for i in range(len(windows)):\n",
    "        if janela in windows[i]:\n",
    "            window_to_activate = i\n",
    "    window = gw.getWindowsWithTitle(windows[window_to_activate])[0]\n",
    "    window.activate()\n",
    "    window.maximize()\n",
    "# Alternar para uma janela específica\n",
    "# window_to_activate = int(input(\"Digite o número da janela para ativar: \"))\n",
    "# window = gw.getWindowsWithTitle(windows[window_to_activate])[0]\n",
    "# window.activate()\n"
   ]
  },
  {
   "cell_type": "code",
   "execution_count": 4,
   "metadata": {},
   "outputs": [
    {
     "data": {
      "text/plain": [
       "<hwndwrapper.DialogWrapper - 'Nova guia - Trabalho — Microsoft​ Edge', Chrome_WidgetWin_1, 393416>"
      ]
     },
     "execution_count": 4,
     "metadata": {},
     "output_type": "execute_result"
    }
   ],
   "source": [
    "from pywinauto import Application\n",
    "\n",
    "# Substitua pelo título ou caminho do programa que deseja manipular\n",
    "app = Application().connect(title_re=\".*Edge.*\")  # Conecta ao Microsoft Edge\n",
    "window = app.top_window() \n",
    "window.restore()  # Restaura a janela\n",
    "window.set_focus()  # Traz a janela para o primeiro plano\n"
   ]
  },
  {
   "cell_type": "code",
   "execution_count": 3,
   "metadata": {},
   "outputs": [
    {
     "data": {
      "text/plain": [
       "<Popen: returncode: None args: ['C:\\\\Program Files (x86)\\\\Microsoft\\\\Edge\\\\A...>"
      ]
     },
     "execution_count": 3,
     "metadata": {},
     "output_type": "execute_result"
    }
   ],
   "source": [
    "import subprocess\n",
    "\n",
    "# Abre o Edge\n",
    "subprocess.Popen([\"C:\\\\Program Files (x86)\\\\Microsoft\\\\Edge\\\\Application\\\\msedge.exe\"])\n",
    "\n"
   ]
  },
  {
   "cell_type": "code",
   "execution_count": 16,
   "metadata": {},
   "outputs": [],
   "source": [
    "fc.vai_para_processo(navegador, \"53500.002572/2025-15\")\n",
    "time.sleep(1)\n",
    "navegador.switch_to.frame('ifrConteudoVisualizacao')\n",
    "#CLICA NO ICONE DE ENVIO DE EMAIL\n",
    "fc.clica_noelemento(navegador, By.XPATH, \"//img[contains(@src, 'svg/email_enviar.svg?18')]\")\n",
    "#clica_noelemento(navegador, By.XPATH, '//*[@id=\"divArvoreAcoes\"]/a[10]')\n",
    "time.sleep(1)\n",
    "#VAI PARA A JANELA MAIS RECENTE ABERTA\n",
    "navegador.switch_to.window(navegador.window_handles[-1])"
   ]
  },
  {
   "cell_type": "code",
   "execution_count": 17,
   "metadata": {},
   "outputs": [],
   "source": [
    "\n",
    "select_element = WebDriverWait(navegador, 10).until(EC.presence_of_element_located((By.XPATH, '//*[@id=\"selTextoPadrao\"]')))\n",
    "select = Select(select_element)\n",
    "#SELECIONA A OPCAO DE EMAIL ANATEL\n",
    "select.select_by_visible_text('Processo SEI ORCN - APROVAÇÃO - DRONE')\n"
   ]
  },
  {
   "cell_type": "code",
   "execution_count": 25,
   "metadata": {},
   "outputs": [],
   "source": [
    "navegador.switch_to.window(navegador.window_handles[0])"
   ]
  },
  {
   "cell_type": "code",
   "execution_count": 24,
   "metadata": {},
   "outputs": [],
   "source": [
    "processosAssinados = '53500.000035/2025-31'\n",
    "retido = 'nao'\n",
    "# Interagir com o navegador para acessar a página do processo\n",
    "navegador.switch_to.default_content()\n",
    "navegador.find_element(By.ID, 'txtPesquisaRapida').clear()\n",
    "navegador.find_element(By.ID, 'txtPesquisaRapida').send_keys(processosAssinados)\n",
    "navegador.find_element(By.ID, 'txtPesquisaRapida').send_keys(Keys.ENTER)\n",
    "time.sleep(1.5)\n",
    "\n",
    "#PEGA DADOS DA DECLARACAO DE CONFORMIDADE\n",
    "navegador.switch_to.frame('ifrArvore')\n",
    "\n",
    "#CONFERE SE EXISTE A DECLARACAO DE CONFORMIDADE OU UMA PASTA\n",
    "if fc.check_element_exists(By.PARTIAL_LINK_TEXT, \"Declaração de Conformidade\", navegador):\n",
    "    navegador.find_element(By.PARTIAL_LINK_TEXT, \"Declaração de Conformidade\").click()\n",
    "    time.sleep(0.3)\n",
    "elif fc.check_element_exists(By.XPATH, '//*[@id=\"spanPASTA1\"]', navegador):\n",
    "    navegador.find_element(By.XPATH, '//*[@id=\"spanPASTA1\"]').click()\n",
    "    time.sleep(1)\n",
    "    navegador.find_element(By.PARTIAL_LINK_TEXT, \"Declaração de Conformidade\").click()\n",
    "    time.sleep(0.3)\n",
    "\n",
    "navegador.switch_to.default_content()\n",
    "navegador.switch_to.frame('ifrConteudoVisualizacao')\n",
    "navegador.switch_to.frame('ifrVisualizacao')\n",
    "\n",
    "#ARMAZENA EMAIL DO SOLICITANTE\n",
    "emailSol = navegador.find_element(By.XPATH, '/html/body/div[3]/a[1]').text\n",
    "\n",
    "navegador.switch_to.default_content()\n",
    "navegador.switch_to.frame('ifrArvore')\n",
    "\n",
    "#VERIFICA SE EXISTE O DESPACHO DECISORIO\n",
    "if fc.check_element_exists(By.PARTIAL_LINK_TEXT, \"Despacho Decisório\", navegador):\n",
    "    #CLICA NO DESPACHO DECISORIO\n",
    "    navegador.find_element(By.PARTIAL_LINK_TEXT, \"Despacho Decisório\").click()\n",
    "    # navegador.find_element(By.PARTIAL_LINK_TEXT, \"Despacho Decisório\").click()\n",
    "    navegador.switch_to.default_content()\n",
    "    navegador.switch_to.frame('ifrConteudoVisualizacao')\n",
    "    navegador.switch_to.frame('ifrVisualizacao')\n",
    "    #VERIFICA SE EXISTE ASSINATURA DO GERENTE\n",
    "    if fc.check_element_exists(By.XPATH, \"/html/body/div[1]/table[1]\", navegador):\n",
    "        navegador.switch_to.default_content()\n",
    "        navegador.switch_to.frame('ifrConteudoVisualizacao')\n",
    "        #CLICA NO ICONE DE EMAIL\n",
    "        fc.clica_noelemento(navegador, By.XPATH, \"//img[contains(@src, 'svg/email_enviar.svg?18')]\")\n",
    "        #clica_noelemento(navegador, By.XPATH, '//*[@id=\"divArvoreAcoes\"]/a[8]')\n",
    "        # navegador.find_element(By.XPATH, \"//img[@title='Enviar Documento por Correio Eletrônico']\").click()\n",
    "        time.sleep(0.7)\n",
    "        #MUDA PARA A JANELA MAIS RECENTE\n",
    "        navegador.switch_to.window(navegador.window_handles[-1])\n",
    "        #time.sleep(2)\n",
    "        #SELECIONA O DROPDOWN COM AS OPCOES DE EMAIL\n",
    "        select_element = WebDriverWait(navegador, 10).until(EC.presence_of_element_located((By.XPATH, '//*[@id=\"selDe\"]')))\n",
    "        select = Select(select_element)\n",
    "        #SELECIONA A OPCAO DE EMAIL ANATEL\n",
    "        select.select_by_visible_text('ANATEL/E-mail de replicação <nao-responda@anatel.gov.br>')\n",
    "        #INSERE EMAIL DO SOLICITANTE E CLICA NO EMAIL DO SOLICITANTE\n",
    "        navegador.find_element(By.XPATH, '//*[@id=\"s2id_autogen1\"]').send_keys(emailSol)\n",
    "        time.sleep(1)\n",
    "        #CLICA NO EMAIL DO SOLICITANTE\n",
    "        fc.clica_noelemento(navegador, By.XPATH,'//*[@id=\"select2-result-label-2\"]')\n",
    "        # navegador.find_element(By.XPATH, '//*[@id=\"select2-result-label-2\"]').click()\n",
    "        #INSERE ASSUNTO DO EMAIL E TEXTO DO EMAIL\n",
    "        if retido == \"sim\":\n",
    "            fc.endereco_email(\"notificacaosei.sp@anatel.gov.br\", navegador)\n",
    "            fc.endereco_email(\"documentacao.rj@anatel.gov.br\", navegador)\n",
    "            fc.endereco_email(\"fiscalizacao1.pr@anatel.gov.br\", navegador)\n",
    "            navegador.find_element(By.ID, 'txtAssunto').send_keys(f'Processo SEI nº {processosAssinados} - Aprovado (teste)')\n",
    "            select_element = WebDriverWait(navegador, 10).until(EC.presence_of_element_located((By.XPATH, '//*[@id=\"selTextoPadrao\"]')))\n",
    "            select = Select(select_element)\n",
    "            #SELECIONA O TEXTO PADRAO DE DRONES RETIDOS APROVADOS\n",
    "            select.select_by_visible_text('Processo SEI ORCN - APROVAÇÃO - DRONE RETIDO')\n",
    "        else:\n",
    "            navegador.find_element(By.ID, 'txtAssunto').send_keys(f'Processo SEI nº {processosAssinados} - Aprovado')\n",
    "            select_element = WebDriverWait(navegador, 10).until(EC.presence_of_element_located((By.XPATH, '//*[@id=\"selTextoPadrao\"]')))\n",
    "            select = Select(select_element)\n",
    "            #SELECIONA O TEXTO PADRAO DE DRONES APROVADOS\n",
    "            select.select_by_visible_text('Processo SEI ORCN - APROVAÇÃO - DRONE')"
   ]
  },
  {
   "cell_type": "code",
   "execution_count": 5,
   "metadata": {},
   "outputs": [],
   "source": [
    "def abrir_janela():\n",
    "    janela = tk.Toplevel()\n",
    "    janela.title(\"Nova Janela\")\n",
    "    janela.geometry(\"300x200\")\n",
    "\n",
    "    # Garante que a nova janela fique em foco e no topo\n",
    "    janela.attributes('-topmost', 1)  # Mantém a janela no topo\n",
    "    janela.lift()                     # Eleva a janela\n",
    "    janela.focus_force()              # Força o foco na janela\n",
    "\n",
    "    tk.Label(janela, text=\"Essa janela está em foco!\").pack(pady=20)\n",
    "    tk.Button(janela, text=\"Fechar\", command=janela.destroy).pack()\n",
    "\n",
    "# Janela principal\n",
    "root = tk.Tk()\n",
    "root.title(\"Janela Principal\")\n",
    "root.geometry(\"300x200\")\n",
    "\n",
    "tk.Button(root, text=\"Abrir Nova Janela\", command=abrir_janela).pack(pady=50)\n",
    "\n",
    "root.mainloop()"
   ]
  },
  {
   "cell_type": "code",
   "execution_count": 30,
   "metadata": {},
   "outputs": [],
   "source": [
    "if processo_reaberto:\n",
    "    fecha_processo()"
   ]
  },
  {
   "cell_type": "code",
   "execution_count": 14,
   "metadata": {},
   "outputs": [
    {
     "name": "stdout",
     "output_type": "stream",
     "text": [
      "processo achado\n"
     ]
    }
   ],
   "source": [
    "\n",
    "navegador.switch_to.default_content()\n",
    "navegador.switch_to.frame('ifrArvore')\n",
    "lista_despachos = navegador.find_elements(By.PARTIAL_LINK_TEXT, 'Despacho Decisório')\n",
    "for i in lista_despachos:\n",
    "    navegador.switch_to.default_content()\n",
    "    navegador.switch_to.frame('ifrArvore')\n",
    "    i.click()\n",
    "    navegador.switch_to.default_content()\n",
    "    navegador.switch_to.frame('ifrConteudoVisualizacao')\n",
    "    navegador.switch_to.frame('ifrVisualizacao')\n",
    "    time.sleep(1)\n",
    "    if fc.check_element_exists(By.XPATH, \"//*[contains(text(), 'Revogar o')]\", navegador):\n",
    "        navegador.switch_to.default_content()\n",
    "        navegador.switch_to.frame('ifrConteudoVisualizacao')\n",
    "        print('processo achado')\n",
    "        time.sleep(1)\n",
    "        #CLICA NO ICONE DE LEGO\n",
    "        fc.clica_noelemento(navegador, By.XPATH, \"//img[contains(@src, 'svg/bloco_incluir_protocolo.svg?18')]\")\n",
    "        \n",
    "        #navegador.find_element(By.XPATH, '//*[@id=\"divArvoreAcoes\"]/a[8]').click()\n",
    "        #SELECIONA BLOCO (SELECIONA O PRIMEIRO DESPACHO PARA DRONES APROVADOS QUE LER)\n",
    "        time.sleep(1.5)\n",
    "        navegador.switch_to.frame('ifrVisualizacao')\n",
    "        select_element = navegador.find_element(By.ID, 'selBloco')\n",
    "        select = Select(select_element)\n",
    "        #PROCURA O PRIMEIRO BLOCO QUE TENHA O TEXTO \"Despachos para Drones aprovados\"\n",
    "        for opcao in select.options:\n",
    "            if \"Despachos para Drones aprovados\" in opcao.text:\n",
    "                select.select_by_visible_text(opcao.text)\n",
    "                break\n",
    "        time.sleep(0.5)\n",
    "        #CLICA NO BOTAO DE INCLUIR NO BLOCO\n",
    "        fc.clica_noelemento(navegador, By.XPATH,'//*[@id=\"sbmIncluir\"]')\n",
    "        #navegador.find_element(By.XPATH, '//*[@id=\"sbmIncluir\"]').click()\n",
    "        \n",
    "\n"
   ]
  },
  {
   "cell_type": "code",
   "execution_count": 15,
   "metadata": {},
   "outputs": [],
   "source": [
    "#VOLTA PARA PAGINA INICIAL DO PROCESSO\n",
    "navegador.switch_to.default_content()\n",
    "navegador.find_element(By.ID,'txtPesquisaRapida').send_keys('53500.047484/2024-61')\n",
    "elementos = navegador.find_element(By.ID,'txtPesquisaRapida')\n",
    "elementos.send_keys(Keys.ENTER)\n",
    "navegador.switch_to.frame('ifrConteudoVisualizacao')\n",
    "time.sleep(1)\n",
    "#ADICIONA NOTA PARA AGUARDAR ASSINATURA\n",
    "#CLICA NO ICONE DE ANOTACAO\n",
    "fc.clica_noelemento(navegador, By.XPATH, \"//img[contains(@src, 'svg/anotacao_cadastro.svg?18')]\")\n",
    "#clica_noelemento(navegador, By.XPATH,'//*[@id=\"divArvoreAcoes\"]/a[16]')\n",
    "time.sleep(0.1)\n",
    "#INSERE O TEXTO DA ANOTACAO\n",
    "navegador.switch_to.frame('ifrVisualizacao')\n",
    "navegador.find_element(By.ID, 'txaDescricao').send_keys('Pedido de Cancelamento')\n",
    "#SALVA O TEXTO\n",
    "navegador.find_element(By.NAME, 'sbmRegistrarAnotacao').click()\n",
    "#DA COMO APROVADO E ANOTA NO TXT DE PROCESSOS CONFORMES"
   ]
  },
  {
   "cell_type": "code",
   "execution_count": null,
   "metadata": {},
   "outputs": [],
   "source": []
  },
  {
   "cell_type": "code",
   "execution_count": 2,
   "metadata": {},
   "outputs": [
    {
     "name": "stdout",
     "output_type": "stream",
     "text": [
      "Célula encontrada: 53500.000742/2025-27\n",
      "Parece que a janela 'Google Chrome' não está visível para o programa.\n",
      "Parece que a janela 'theomation' não está visível para o programa.\n"
     ]
    }
   ],
   "source": [
    "import funcoes as fc\n",
    "fc.preenche_planilhageral('53500.000742/2025-27', 'André Jacinto Rodrigues', 'Não', 'Aprovado', '', 'Rafael Basilio Chaves')"
   ]
  }
 ],
 "metadata": {
  "kernelspec": {
   "display_name": "Python 3",
   "language": "python",
   "name": "python3"
  },
  "language_info": {
   "codemirror_mode": {
    "name": "ipython",
    "version": 3
   },
   "file_extension": ".py",
   "mimetype": "text/x-python",
   "name": "python",
   "nbconvert_exporter": "python",
   "pygments_lexer": "ipython3",
   "version": "3.11.9"
  }
 },
 "nbformat": 4,
 "nbformat_minor": 2
}
