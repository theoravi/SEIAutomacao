{
 "cells": [
  {
   "cell_type": "code",
   "execution_count": 15,
   "metadata": {},
   "outputs": [],
   "source": [
    "import funcoes as fc\n",
    "import numpy as np\n",
    "import os\n",
    "import pandas as pd\n",
    "import pyautogui\n",
    "import pyperclip\n",
    "import time\n",
    "import tkinter as tk\n",
    "import undetected_chromedriver as uc\n",
    "from datetime import datetime\n",
    "from selenium import webdriver\n",
    "from selenium.webdriver.chrome.service import Service\n",
    "from selenium.webdriver.chrome.options import Options\n",
    "from selenium.webdriver.common.alert import Alert\n",
    "from selenium.webdriver.common.by import By\n",
    "from selenium.webdriver.common.keys import Keys\n",
    "from selenium.webdriver.support.ui import Select\n",
    "from selenium.common.exceptions import NoSuchElementException\n",
    "from selenium.common.exceptions import TimeoutException\n",
    "from selenium.webdriver.support.ui import WebDriverWait\n",
    "from selenium.webdriver.support import expected_conditions as EC\n",
    "from tabulate import tabulate\n",
    "from tkinter import scrolledtext\n",
    "from webdriver_manager.chrome import ChromeDriverManager\n",
    "from selenium.webdriver import Edge\n",
    "from selenium.webdriver import Chrome"
   ]
  },
  {
   "cell_type": "code",
   "execution_count": 16,
   "metadata": {},
   "outputs": [],
   "source": [
    "#INSTALA O CHROME DRIVEr MAIS ATUALIZADO\n",
    "# Desativa o bloqueio de pop-ups\n",
    "# options = webdriver.ChromeOptions()\n",
    "# options.add_argument(\"--disable-popup-blocking\") \n",
    "#DEFINE O TEMPO DE EXECUÇÃO PARA CADA COMANDO DO PYAUTOGUI\n",
    "pyautogui.PAUSE = 0.7\n",
    "#INICIA O NAVEGADOR\n",
    "# Caminho do ChromeDriver local\n",
    "# chrome_driver_path = r\"main\\chromedriver-win64\\chromedriver.exe\"  # Altere para o caminho correto do seu ChromeDriver\n",
    "# Configura o serviço do ChromeDriver\n",
    "# servico = Service(ChromeDriverManager().install())\n",
    "# Inicia o navegador Chrome\n",
    "# navegador = webdriver.Chrome(service=servico, options=options)\n",
    "navegador = Edge()\n",
    "navegador.maximize_window()\n",
    "#ENTRA NO SEI\n",
    "navegador.get('https://sei.anatel.gov.br/')\n"
   ]
  },
  {
   "cell_type": "code",
   "execution_count": 37,
   "metadata": {},
   "outputs": [
    {
     "name": "stdout",
     "output_type": "stream",
     "text": [
      "Despachos para Drones aprovados 20/03/25\n"
     ]
    }
   ],
   "source": [
    "hoje = datetime.now().strftime(\"%d/%m/%y\")\n",
    "despacho_atual = \"Despachos para Drones aprovados \"+hoje\n",
    "print(despacho_atual)"
   ]
  },
  {
   "cell_type": "code",
   "execution_count": null,
   "metadata": {},
   "outputs": [
    {
     "name": "stdout",
     "output_type": "stream",
     "text": [
      "  <class 'str'>\n",
      "354285 - para assinatura do davison <class 'str'>\n",
      "354281 - despachos para drones aprovados 20/03/25 <class 'str'>\n",
      "Despacho achado\n"
     ]
    }
   ],
   "source": [
    "navegador.switch_to.default_content()\n",
    "navegador.switch_to.frame('ifrConteudoVisualizacao')\n",
    "time.sleep(1)\n",
    "#CLICA NO ICONE DE LEGO\n",
    "fc.clica_noelemento(navegador, By.XPATH, \"//img[contains(@src, 'svg/bloco_incluir_protocolo.svg?18')]\")\n",
    "#navegador.find_element(By.XPATH, '//*[@id=\"divArvoreAcoes\"]/a[8]').click()\n",
    "#SELECIONA BLOCO (SELECIONA O PRIMEIRO DESPACHO PARA DRONES APROVADOS QUE LER)\n",
    "time.sleep(1.5)\n",
    "navegador.switch_to.frame('ifrVisualizacao')\n",
    "select_element = navegador.find_element(By.ID, 'selBloco')\n",
    "select = Select(select_element)\n",
    "#PROCURA O PRIMEIRO BLOCO QUE TENHA O TEXTO \"Despachos para Drones aprovados\"\n",
    "for opcao in select.options:\n",
    "    print(opcao.text.lower(), type(opcao.text))\n",
    "    if \"despachos para drones aprovados \"+hoje in opcao.text.lower():\n",
    "        select.select_by_visible_text(opcao.text)\n",
    "        print(\"Despacho achado\")\n",
    "        despacho_achado = True\n",
    "        break\n",
    "if despacho_achado:\n",
    "    print(\"Faz tudo\")\n",
    "else:\n",
    "    print(\"Despacho do dia não foi achado. Crie o despacho e inclua manualmente no bloco. \")\n",
    "\n"
   ]
  },
  {
   "cell_type": "code",
   "execution_count": 56,
   "metadata": {},
   "outputs": [],
   "source": [
    "inclui_despacho(navegador, '53500.017811/2025-31')"
   ]
  },
  {
   "cell_type": "code",
   "execution_count": null,
   "metadata": {},
   "outputs": [],
   "source": [
    "def inclui_despacho(navegador, processo):    \n",
    "    #INCLUI DESPACHO NO BLOCO\n",
    "    navegador.switch_to.default_content()\n",
    "    navegador.switch_to.frame('ifrArvore')\n",
    "    #CLICA NO DESPACHO DECISORIO\n",
    "    fc.clica_noelemento(navegador, By.PARTIAL_LINK_TEXT,\"Despacho Decisório\")\n",
    "    #navegador.find_element(By.PARTIAL_LINK_TEXT, \"Despacho Decisório\").click()\n",
    "    navegador.switch_to.default_content()\n",
    "    navegador.switch_to.frame('ifrConteudoVisualizacao')\n",
    "    time.sleep(1)\n",
    "    #CLICA NO ICONE DE LEGO\n",
    "    fc.clica_noelemento(navegador, By.XPATH, \"//img[contains(@src, 'svg/bloco_incluir_protocolo.svg?18')]\")\n",
    "    #navegador.find_element(By.XPATH, '//*[@id=\"divArvoreAcoes\"]/a[8]').click()\n",
    "    #SELECIONA BLOCO (SELECIONA O PRIMEIRO DESPACHO PARA DRONES APROVADOS QUE LER)\n",
    "    time.sleep(1.5)\n",
    "    navegador.switch_to.frame('ifrVisualizacao')\n",
    "    select_element = navegador.find_element(By.ID, 'selBloco')\n",
    "    select = Select(select_element)\n",
    "    #PROCURA O PRIMEIRO BLOCO QUE TENHA O TEXTO \"Despachos para Drones aprovados\"\n",
    "    despacho_achado = False\n",
    "    hoje = hoje = datetime.now().strftime(\"%d/%m/%y\")\n",
    "    for opcao in select.options:\n",
    "        if \"despachos para drones aprovados \"+hoje in opcao.text.lower():\n",
    "            select.select_by_visible_text(opcao.text)\n",
    "            despacho_achado = True\n",
    "            break\n",
    "    if not despacho_achado:\n",
    "        while True:\n",
    "            opcao = input(\"Pode ser que o despacho nao foi achado. Crie o despacho (abrindo uma nova aba) e digite [1]. Caso houve algum problema e seja necessário incluir manualmente, digite [2]: \")\n",
    "            if opcao == '1':\n",
    "                inclui_despacho(navegador, processo)\n",
    "                return\n",
    "            elif opcao == '2':\n",
    "                return\n",
    "            else:\n",
    "                print(\"Opção inválida. Tente novamente.\")\n",
    "    time.sleep(0.5)\n",
    "    #CLICA NO BOTAO DE INCLUIR NO BLOCO\n",
    "    fc.clica_noelemento(navegador, By.XPATH,'//*[@id=\"sbmIncluir\"]')\n",
    "    #navegador.find_element(By.XPATH, '//*[@id=\"sbmIncluir\"]').click()\n",
    "    #VOLTA PARA PAGINA INICIAL DO PROCESSO\n",
    "    # navegador.switch_to.default_content()\n",
    "    # navegador.find_element(By.ID,'txtPesquisaRapida').send_keys(processo)\n",
    "    # elementos = navegador.find_element(By.ID,'txtPesquisaRapida')\n",
    "    # elementos.send_keys(Keys.ENTER)\n",
    "    fc.vai_para_processo(navegador, processo)\n",
    "    # time.sleep(3)\n",
    "    fc.muda_para_iframe(navegador, By.ID, 'ifrConteudoVisualizacao')\n",
    "    # navegador.switch_to.frame('ifrConteudoVisualizacao')\n",
    "    #ADICIONA NOTA PARA AGUARDAR ASSINATURA\n",
    "    #CLICA NO ICONE DE ANOTACAO\n",
    "    fc.clica_noelemento(navegador, By.XPATH, \"//img[contains(@src, 'svg/anotacao_cadastro.svg?18')]\")\n",
    "    #clica_noelemento(navegador, By.XPATH,'//*[@id=\"divArvoreAcoes\"]/a[16]')\n",
    "    time.sleep(0.1)\n",
    "    #INSERE O TEXTO DA ANOTACAO\n",
    "    navegador.switch_to.frame('ifrVisualizacao')\n",
    "    navegador.find_element(By.ID, 'txaDescricao').send_keys('Aguardando assinatura.')\n",
    "    #SALVA O TEXTO\n",
    "    navegador.find_element(By.NAME, 'sbmRegistrarAnotacao').click()\n",
    "    #DA COMO APROVADO E ANOTA NO TXT DE PROCESSOS CONFORMES"
   ]
  },
  {
   "cell_type": "code",
   "execution_count": null,
   "metadata": {},
   "outputs": [],
   "source": [
    "navegador.switch_to.window(navegador.window_handles[0])"
   ]
  },
  {
   "cell_type": "code",
   "execution_count": null,
   "metadata": {},
   "outputs": [],
   "source": [
    "processo = '53500.001150/2025-22'\n",
    "fc.vai_para_processo(navegador, processo)\n",
    "time.sleep(1)\n",
    "#PEGA DADOS DA DECLARACAO DE CONFORMIDADE\n",
    "navegador.switch_to.frame('ifrArvore')\n",
    "\n",
    "#CONFERE SE EXISTE A DECLARACAO DE CONFORMIDADE OU UMA PASTA\n",
    "if fc.check_element_exists(By.XPATH, '//*[@id=\"spanPASTA1\"]', navegador):\n",
    "    navegador.find_element(By.XPATH, '//*[@id=\"spanPASTA1\"]').click()\n",
    "    time.sleep(1)\n",
    "    navegador.find_element(By.PARTIAL_LINK_TEXT, \"Declaração de Conformidade\").click()\n",
    "    time.sleep(0.3)\n",
    "\n",
    "elif fc.check_element_exists(By.PARTIAL_LINK_TEXT, \"Declaração de Conformidade\", navegador):\n",
    "    navegador.find_element(By.PARTIAL_LINK_TEXT, \"Declaração de Conformidade\").click()\n",
    "    time.sleep(0.3)\n",
    "\n",
    "navegador.switch_to.default_content()\n",
    "navegador.switch_to.frame('ifrConteudoVisualizacao')\n",
    "navegador.switch_to.frame('ifrVisualizacao')\n",
    "\n",
    "#ARMAZENA EMAIL DO SOLICITANTE\n",
    "emailSol = navegador.find_element(By.XPATH, '/html/body/div[3]/a[1]').text"
   ]
  },
  {
   "cell_type": "code",
   "execution_count": null,
   "metadata": {},
   "outputs": [
    {
     "name": "stdout",
     "output_type": "stream",
     "text": [
      "Parece que o programa chegou ao fim da iteração\n"
     ]
    }
   ],
   "source": [
    "counter = 0\n",
    "while True:\n",
    "    fc.muda_janela('Distribuição Processo Drone.xlsx')\n",
    "    pyautogui.hotkey('ctrl', 'c')\n",
    "    time.sleep(0.5)\n",
    "    pyautogui.hotkey('ctrl', 'c')\n",
    "    time.sleep(0.2)\n",
    "    n_processo = pyperclip.paste()\n",
    "    if n_processo == '':\n",
    "        counter += 1\n",
    "    if counter == 5:\n",
    "        print('Parece que o programa chegou ao fim da iteração')\n",
    "        navegador.close()\n",
    "        break\n",
    "    fc.muda_janela('Distribuição Processo Drone.xlsx')\n",
    "    pyautogui.press('down')"
   ]
  },
  {
   "cell_type": "code",
   "execution_count": null,
   "metadata": {},
   "outputs": [],
   "source": [
    "def abrir_janela():\n",
    "    janela = tk.Toplevel()\n",
    "    janela.title(\"Nova Janela\")\n",
    "    janela.geometry(\"300x200\")\n",
    "\n",
    "    # Garante que a nova janela fique em foco e no topo\n",
    "    janela.attributes('-topmost', 1)  # Mantém a janela no topo\n",
    "    janela.lift()                     # Eleva a janela\n",
    "    janela.focus_force()              # Força o foco na janela\n",
    "\n",
    "    tk.Label(janela, text=\"Essa janela está em foco!\").pack(pady=20)\n",
    "    tk.Button(janela, text=\"Fechar\", command=janela.destroy).pack()\n",
    "\n",
    "# Janela principal\n",
    "root = tk.Tk()\n",
    "root.title(\"Janela Principal\")\n",
    "root.geometry(\"300x200\")\n",
    "\n",
    "tk.Button(root, text=\"Abrir Nova Janela\", command=abrir_janela).pack(pady=50)\n",
    "\n",
    "root.mainloop()"
   ]
  },
  {
   "cell_type": "code",
   "execution_count": null,
   "metadata": {},
   "outputs": [
    {
     "name": "stdout",
     "output_type": "stream",
     "text": [
      "processo achado\n"
     ]
    }
   ],
   "source": [
    "\n",
    "navegador.switch_to.default_content()\n",
    "navegador.switch_to.frame('ifrArvore')\n",
    "lista_despachos = navegador.find_elements(By.PARTIAL_LINK_TEXT, 'Despacho Decisório')\n",
    "for i in lista_despachos:\n",
    "    navegador.switch_to.default_content()\n",
    "    navegador.switch_to.frame('ifrArvore')\n",
    "    i.click()\n",
    "    navegador.switch_to.default_content()\n",
    "    navegador.switch_to.frame('ifrConteudoVisualizacao')\n",
    "    navegador.switch_to.frame('ifrVisualizacao')\n",
    "    time.sleep(1)\n",
    "    if fc.check_element_exists(By.XPATH, \"//*[contains(text(), 'Revogar o')]\", navegador):\n",
    "        navegador.switch_to.default_content()\n",
    "        navegador.switch_to.frame('ifrConteudoVisualizacao')\n",
    "        print('processo achado')\n",
    "        time.sleep(1)\n",
    "        #CLICA NO ICONE DE LEGO\n",
    "        fc.clica_noelemento(navegador, By.XPATH, \"//img[contains(@src, 'svg/bloco_incluir_protocolo.svg?18')]\")\n",
    "        \n",
    "        #navegador.find_element(By.XPATH, '//*[@id=\"divArvoreAcoes\"]/a[8]').click()\n",
    "        #SELECIONA BLOCO (SELECIONA O PRIMEIRO DESPACHO PARA DRONES APROVADOS QUE LER)\n",
    "        time.sleep(1.5)\n",
    "        navegador.switch_to.frame('ifrVisualizacao')\n",
    "        select_element = navegador.find_element(By.ID, 'selBloco')\n",
    "        select = Select(select_element)\n",
    "        #PROCURA O PRIMEIRO BLOCO QUE TENHA O TEXTO \"Despachos para Drones aprovados\"\n",
    "        for opcao in select.options:\n",
    "            if \"Despachos para Drones aprovados\" in opcao.text:\n",
    "                select.select_by_visible_text(opcao.text)\n",
    "                break\n",
    "        time.sleep(0.5)\n",
    "        #CLICA NO BOTAO DE INCLUIR NO BLOCO\n",
    "        fc.clica_noelemento(navegador, By.XPATH,'//*[@id=\"sbmIncluir\"]')\n",
    "        #navegador.find_element(By.XPATH, '//*[@id=\"sbmIncluir\"]').click()\n",
    "        \n",
    "\n"
   ]
  },
  {
   "cell_type": "code",
   "execution_count": null,
   "metadata": {},
   "outputs": [],
   "source": [
    "#VOLTA PARA PAGINA INICIAL DO PROCESSO\n",
    "navegador.switch_to.default_content()\n",
    "navegador.find_element(By.ID,'txtPesquisaRapida').send_keys('53500.047484/2024-61')\n",
    "elementos = navegador.find_element(By.ID,'txtPesquisaRapida')\n",
    "elementos.send_keys(Keys.ENTER)\n",
    "navegador.switch_to.frame('ifrConteudoVisualizacao')\n",
    "time.sleep(1)\n",
    "#ADICIONA NOTA PARA AGUARDAR ASSINATURA\n",
    "#CLICA NO ICONE DE ANOTACAO\n",
    "fc.clica_noelemento(navegador, By.XPATH, \"//img[contains(@src, 'svg/anotacao_cadastro.svg?18')]\")\n",
    "#clica_noelemento(navegador, By.XPATH,'//*[@id=\"divArvoreAcoes\"]/a[16]')\n",
    "time.sleep(0.1)\n",
    "#INSERE O TEXTO DA ANOTACAO\n",
    "navegador.switch_to.frame('ifrVisualizacao')\n",
    "navegador.find_element(By.ID, 'txaDescricao').send_keys('Pedido de Cancelamento')\n",
    "#SALVA O TEXTO\n",
    "navegador.find_element(By.NAME, 'sbmRegistrarAnotacao').click()\n",
    "#DA COMO APROVADO E ANOTA NO TXT DE PROCESSOS CONFORMES"
   ]
  },
  {
   "cell_type": "code",
   "execution_count": 2,
   "metadata": {},
   "outputs": [
    {
     "name": "stdout",
     "output_type": "stream",
     "text": [
      "Célula encontrada: 53500.000742/2025-27\n",
      "Parece que a janela 'Google Chrome' não está visível para o programa.\n",
      "Parece que a janela 'theomation' não está visível para o programa.\n"
     ]
    }
   ],
   "source": [
    "import funcoes as fc\n",
    "fc.preenche_planilhageral('53500.000742/2025-27', 'André Jacinto Rodrigues', 'Não', 'Aprovado', '', 'Rafael Basilio Chaves')"
   ]
  }
 ],
 "metadata": {
  "kernelspec": {
   "display_name": "Python 3",
   "language": "python",
   "name": "python3"
  },
  "language_info": {
   "codemirror_mode": {
    "name": "ipython",
    "version": 3
   },
   "file_extension": ".py",
   "mimetype": "text/x-python",
   "name": "python",
   "nbconvert_exporter": "python",
   "pygments_lexer": "ipython3",
   "version": "3.11.9"
  }
 },
 "nbformat": 4,
 "nbformat_minor": 2
}
