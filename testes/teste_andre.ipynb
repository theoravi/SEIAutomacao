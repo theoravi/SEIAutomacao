{
 "cells": [
  {
   "cell_type": "code",
   "execution_count": 7,
   "metadata": {},
   "outputs": [],
   "source": [
    "import numpy as np\n",
    "import pandas as pd\n",
    "import time\n",
    "import tkinter as tk\n",
    "from openpyxl import load_workbook\n",
    "import undetected_chromedriver as uc\n",
    "from selenium.webdriver.chrome.service import Service\n",
    "from selenium.webdriver.common.alert import Alert\n",
    "from selenium.webdriver.common.by import By\n",
    "from selenium.webdriver.common.keys import Keys\n",
    "from selenium.webdriver.support.ui import Select\n",
    "from selenium.common.exceptions import NoSuchElementException\n",
    "from tabulate import tabulate\n",
    "from webdriver_manager.chrome import ChromeDriverManager\n",
    "servico = Service(ChromeDriverManager().install())\n",
    "import funcoes as fc\n",
    "import pyautogui"
   ]
  },
  {
   "cell_type": "code",
   "execution_count": 11,
   "metadata": {},
   "outputs": [
    {
     "ename": "NoSuchWindowException",
     "evalue": "Message: no such window: target window already closed\nfrom unknown error: web view not found\n  (Session info: chrome=130.0.6723.117)\nStacktrace:\n\tGetHandleVerifier [0x00007FF79B6E3AF5+28005]\n\t(No symbol) [0x00007FF79B6483F0]\n\t(No symbol) [0x00007FF79B4E580A]\n\t(No symbol) [0x00007FF79B4BFA85]\n\t(No symbol) [0x00007FF79B562AD7]\n\t(No symbol) [0x00007FF79B57B1B1]\n\t(No symbol) [0x00007FF79B55B7E3]\n\t(No symbol) [0x00007FF79B5275C8]\n\t(No symbol) [0x00007FF79B528731]\n\tGetHandleVerifier [0x00007FF79B9D646D+3118813]\n\tGetHandleVerifier [0x00007FF79BA26CC0+3448624]\n\tGetHandleVerifier [0x00007FF79BA1CF3D+3408301]\n\tGetHandleVerifier [0x00007FF79B7AA44B+841403]\n\t(No symbol) [0x00007FF79B65344F]\n\t(No symbol) [0x00007FF79B64F4C4]\n\t(No symbol) [0x00007FF79B64F65D]\n\t(No symbol) [0x00007FF79B63EBB9]\n\tBaseThreadInitThunk [0x00007FF9E2F0257D+29]\n\tRtlUserThreadStart [0x00007FF9E3CEAF08+40]\n",
     "output_type": "error",
     "traceback": [
      "\u001b[1;31m---------------------------------------------------------------------------\u001b[0m",
      "\u001b[1;31mNoSuchWindowException\u001b[0m                     Traceback (most recent call last)",
      "Cell \u001b[1;32mIn[11], line 16\u001b[0m\n\u001b[0;32m     15\u001b[0m     alert \u001b[38;5;241m=\u001b[39m Alert(navegador)\n\u001b[1;32m---> 16\u001b[0m     \u001b[43malert\u001b[49m\u001b[38;5;241;43m.\u001b[39;49m\u001b[43maccept\u001b[49m\u001b[43m(\u001b[49m\u001b[43m)\u001b[49m\n\u001b[0;32m     17\u001b[0m \u001b[38;5;28;01mexcept\u001b[39;00m:\n\u001b[0;32m     18\u001b[0m     \u001b[38;5;66;03m#ENTRAR NA CAIXA DE PROCESSOS ATRIBUIDOS AO USUARIO\u001b[39;00m\n",
      "File \u001b[1;32m~\\AppData\\Local\\Packages\\PythonSoftwareFoundation.Python.3.11_qbz5n2kfra8p0\\LocalCache\\local-packages\\Python311\\site-packages\\selenium\\webdriver\\common\\alert.py:72\u001b[0m, in \u001b[0;36mAlert.accept\u001b[1;34m(self)\u001b[0m\n\u001b[0;32m     65\u001b[0m \u001b[38;5;250m\u001b[39m\u001b[38;5;124;03m\"\"\"Accepts the alert available.\u001b[39;00m\n\u001b[0;32m     66\u001b[0m \n\u001b[0;32m     67\u001b[0m \u001b[38;5;124;03m:Usage:\u001b[39;00m\n\u001b[1;32m   (...)\u001b[0m\n\u001b[0;32m     70\u001b[0m \u001b[38;5;124;03m        Alert(driver).accept() # Confirm a alert dialog.\u001b[39;00m\n\u001b[0;32m     71\u001b[0m \u001b[38;5;124;03m\"\"\"\u001b[39;00m\n\u001b[1;32m---> 72\u001b[0m \u001b[38;5;28;43mself\u001b[39;49m\u001b[38;5;241;43m.\u001b[39;49m\u001b[43mdriver\u001b[49m\u001b[38;5;241;43m.\u001b[39;49m\u001b[43mexecute\u001b[49m\u001b[43m(\u001b[49m\u001b[43mCommand\u001b[49m\u001b[38;5;241;43m.\u001b[39;49m\u001b[43mW3C_ACCEPT_ALERT\u001b[49m\u001b[43m)\u001b[49m\n",
      "File \u001b[1;32m~\\AppData\\Local\\Packages\\PythonSoftwareFoundation.Python.3.11_qbz5n2kfra8p0\\LocalCache\\local-packages\\Python311\\site-packages\\selenium\\webdriver\\remote\\webdriver.py:354\u001b[0m, in \u001b[0;36mWebDriver.execute\u001b[1;34m(self, driver_command, params)\u001b[0m\n\u001b[0;32m    353\u001b[0m \u001b[38;5;28;01mif\u001b[39;00m response:\n\u001b[1;32m--> 354\u001b[0m     \u001b[38;5;28;43mself\u001b[39;49m\u001b[38;5;241;43m.\u001b[39;49m\u001b[43merror_handler\u001b[49m\u001b[38;5;241;43m.\u001b[39;49m\u001b[43mcheck_response\u001b[49m\u001b[43m(\u001b[49m\u001b[43mresponse\u001b[49m\u001b[43m)\u001b[49m\n\u001b[0;32m    355\u001b[0m     response[\u001b[38;5;124m\"\u001b[39m\u001b[38;5;124mvalue\u001b[39m\u001b[38;5;124m\"\u001b[39m] \u001b[38;5;241m=\u001b[39m \u001b[38;5;28mself\u001b[39m\u001b[38;5;241m.\u001b[39m_unwrap_value(response\u001b[38;5;241m.\u001b[39mget(\u001b[38;5;124m\"\u001b[39m\u001b[38;5;124mvalue\u001b[39m\u001b[38;5;124m\"\u001b[39m, \u001b[38;5;28;01mNone\u001b[39;00m))\n",
      "File \u001b[1;32m~\\AppData\\Local\\Packages\\PythonSoftwareFoundation.Python.3.11_qbz5n2kfra8p0\\LocalCache\\local-packages\\Python311\\site-packages\\selenium\\webdriver\\remote\\errorhandler.py:229\u001b[0m, in \u001b[0;36mErrorHandler.check_response\u001b[1;34m(self, response)\u001b[0m\n\u001b[0;32m    228\u001b[0m     \u001b[38;5;28;01mraise\u001b[39;00m exception_class(message, screen, stacktrace, alert_text)  \u001b[38;5;66;03m# type: ignore[call-arg]  # mypy is not smart enough here\u001b[39;00m\n\u001b[1;32m--> 229\u001b[0m \u001b[38;5;28;01mraise\u001b[39;00m exception_class(message, screen, stacktrace)\n",
      "\u001b[1;31mNoSuchWindowException\u001b[0m: Message: no such window: target window already closed\nfrom unknown error: web view not found\n  (Session info: chrome=130.0.6723.117)\nStacktrace:\n\tGetHandleVerifier [0x00007FF79B6E3AF5+28005]\n\t(No symbol) [0x00007FF79B6483F0]\n\t(No symbol) [0x00007FF79B4E580A]\n\t(No symbol) [0x00007FF79B4BFA85]\n\t(No symbol) [0x00007FF79B562AD7]\n\t(No symbol) [0x00007FF79B507C56]\n\t(No symbol) [0x00007FF79B55B7E3]\n\t(No symbol) [0x00007FF79B5275C8]\n\t(No symbol) [0x00007FF79B528731]\n\tGetHandleVerifier [0x00007FF79B9D646D+3118813]\n\tGetHandleVerifier [0x00007FF79BA26CC0+3448624]\n\tGetHandleVerifier [0x00007FF79BA1CF3D+3408301]\n\tGetHandleVerifier [0x00007FF79B7AA44B+841403]\n\t(No symbol) [0x00007FF79B65344F]\n\t(No symbol) [0x00007FF79B64F4C4]\n\t(No symbol) [0x00007FF79B64F65D]\n\t(No symbol) [0x00007FF79B63EBB9]\n\tBaseThreadInitThunk [0x00007FF9E2F0257D+29]\n\tRtlUserThreadStart [0x00007FF9E3CEAF08+40]\n",
      "\nDuring handling of the above exception, another exception occurred:\n",
      "\u001b[1;31mNoSuchWindowException\u001b[0m                     Traceback (most recent call last)",
      "Cell \u001b[1;32mIn[11], line 19\u001b[0m\n\u001b[0;32m     16\u001b[0m     alert\u001b[38;5;241m.\u001b[39maccept()\n\u001b[0;32m     17\u001b[0m \u001b[38;5;28;01mexcept\u001b[39;00m:\n\u001b[0;32m     18\u001b[0m     \u001b[38;5;66;03m#ENTRAR NA CAIXA DE PROCESSOS ATRIBUIDOS AO USUARIO\u001b[39;00m\n\u001b[1;32m---> 19\u001b[0m     \u001b[38;5;28;01mif\u001b[39;00m \u001b[43mfc\u001b[49m\u001b[38;5;241;43m.\u001b[39;49m\u001b[43mcheck_element_exists\u001b[49m\u001b[43m(\u001b[49m\u001b[43mBy\u001b[49m\u001b[38;5;241;43m.\u001b[39;49m\u001b[43mXPATH\u001b[49m\u001b[43m,\u001b[49m\u001b[38;5;124;43m'\u001b[39;49m\u001b[38;5;124;43m//*[@id=\u001b[39;49m\u001b[38;5;124;43m\"\u001b[39;49m\u001b[38;5;124;43mdivFiltro\u001b[39;49m\u001b[38;5;124;43m\"\u001b[39;49m\u001b[38;5;124;43m]/div[2]/a\u001b[39;49m\u001b[38;5;124;43m'\u001b[39;49m\u001b[43m,\u001b[49m\u001b[43m \u001b[49m\u001b[43mnavegador\u001b[49m\u001b[43m)\u001b[49m:\n\u001b[0;32m     20\u001b[0m         navegador\u001b[38;5;241m.\u001b[39mfind_element(By\u001b[38;5;241m.\u001b[39mXPATH,\u001b[38;5;124m'\u001b[39m\u001b[38;5;124m//*[@id=\u001b[39m\u001b[38;5;124m\"\u001b[39m\u001b[38;5;124mdivFiltro\u001b[39m\u001b[38;5;124m\"\u001b[39m\u001b[38;5;124m]/div[2]/a\u001b[39m\u001b[38;5;124m'\u001b[39m)\u001b[38;5;241m.\u001b[39mclick()\n\u001b[0;32m     21\u001b[0m         \u001b[38;5;28;01mbreak\u001b[39;00m\n",
      "File \u001b[1;32mc:\\Users\\andrej.estagio\\OneDrive - ANATEL\\Documentos\\Automacao anatel\\SEIAutomacao\\funcoes.py:39\u001b[0m, in \u001b[0;36mcheck_element_exists\u001b[1;34m(by, value, navegador)\u001b[0m\n\u001b[0;32m     37\u001b[0m \u001b[38;5;28;01mdef\u001b[39;00m \u001b[38;5;21mcheck_element_exists\u001b[39m(by, value, navegador):\n\u001b[0;32m     38\u001b[0m     \u001b[38;5;28;01mtry\u001b[39;00m:\n\u001b[1;32m---> 39\u001b[0m         \u001b[43mnavegador\u001b[49m\u001b[38;5;241;43m.\u001b[39;49m\u001b[43mfind_element\u001b[49m\u001b[43m(\u001b[49m\u001b[43mby\u001b[49m\u001b[43m,\u001b[49m\u001b[43m \u001b[49m\u001b[43mvalue\u001b[49m\u001b[43m)\u001b[49m\n\u001b[0;32m     40\u001b[0m         \u001b[38;5;28;01mreturn\u001b[39;00m \u001b[38;5;28;01mTrue\u001b[39;00m\n\u001b[0;32m     41\u001b[0m     \u001b[38;5;28;01mexcept\u001b[39;00m NoSuchElementException:\n",
      "File \u001b[1;32m~\\AppData\\Local\\Packages\\PythonSoftwareFoundation.Python.3.11_qbz5n2kfra8p0\\LocalCache\\local-packages\\Python311\\site-packages\\selenium\\webdriver\\remote\\webdriver.py:748\u001b[0m, in \u001b[0;36mWebDriver.find_element\u001b[1;34m(self, by, value)\u001b[0m\n\u001b[0;32m    745\u001b[0m     by \u001b[38;5;241m=\u001b[39m By\u001b[38;5;241m.\u001b[39mCSS_SELECTOR\n\u001b[0;32m    746\u001b[0m     value \u001b[38;5;241m=\u001b[39m \u001b[38;5;124mf\u001b[39m\u001b[38;5;124m'\u001b[39m\u001b[38;5;124m[name=\u001b[39m\u001b[38;5;124m\"\u001b[39m\u001b[38;5;132;01m{\u001b[39;00mvalue\u001b[38;5;132;01m}\u001b[39;00m\u001b[38;5;124m\"\u001b[39m\u001b[38;5;124m]\u001b[39m\u001b[38;5;124m'\u001b[39m\n\u001b[1;32m--> 748\u001b[0m \u001b[38;5;28;01mreturn\u001b[39;00m \u001b[38;5;28;43mself\u001b[39;49m\u001b[38;5;241;43m.\u001b[39;49m\u001b[43mexecute\u001b[49m\u001b[43m(\u001b[49m\u001b[43mCommand\u001b[49m\u001b[38;5;241;43m.\u001b[39;49m\u001b[43mFIND_ELEMENT\u001b[49m\u001b[43m,\u001b[49m\u001b[43m \u001b[49m\u001b[43m{\u001b[49m\u001b[38;5;124;43m\"\u001b[39;49m\u001b[38;5;124;43musing\u001b[39;49m\u001b[38;5;124;43m\"\u001b[39;49m\u001b[43m:\u001b[49m\u001b[43m \u001b[49m\u001b[43mby\u001b[49m\u001b[43m,\u001b[49m\u001b[43m \u001b[49m\u001b[38;5;124;43m\"\u001b[39;49m\u001b[38;5;124;43mvalue\u001b[39;49m\u001b[38;5;124;43m\"\u001b[39;49m\u001b[43m:\u001b[49m\u001b[43m \u001b[49m\u001b[43mvalue\u001b[49m\u001b[43m}\u001b[49m\u001b[43m)\u001b[49m[\u001b[38;5;124m\"\u001b[39m\u001b[38;5;124mvalue\u001b[39m\u001b[38;5;124m\"\u001b[39m]\n",
      "File \u001b[1;32m~\\AppData\\Local\\Packages\\PythonSoftwareFoundation.Python.3.11_qbz5n2kfra8p0\\LocalCache\\local-packages\\Python311\\site-packages\\selenium\\webdriver\\remote\\webdriver.py:354\u001b[0m, in \u001b[0;36mWebDriver.execute\u001b[1;34m(self, driver_command, params)\u001b[0m\n\u001b[0;32m    352\u001b[0m response \u001b[38;5;241m=\u001b[39m \u001b[38;5;28mself\u001b[39m\u001b[38;5;241m.\u001b[39mcommand_executor\u001b[38;5;241m.\u001b[39mexecute(driver_command, params)\n\u001b[0;32m    353\u001b[0m \u001b[38;5;28;01mif\u001b[39;00m response:\n\u001b[1;32m--> 354\u001b[0m     \u001b[38;5;28;43mself\u001b[39;49m\u001b[38;5;241;43m.\u001b[39;49m\u001b[43merror_handler\u001b[49m\u001b[38;5;241;43m.\u001b[39;49m\u001b[43mcheck_response\u001b[49m\u001b[43m(\u001b[49m\u001b[43mresponse\u001b[49m\u001b[43m)\u001b[49m\n\u001b[0;32m    355\u001b[0m     response[\u001b[38;5;124m\"\u001b[39m\u001b[38;5;124mvalue\u001b[39m\u001b[38;5;124m\"\u001b[39m] \u001b[38;5;241m=\u001b[39m \u001b[38;5;28mself\u001b[39m\u001b[38;5;241m.\u001b[39m_unwrap_value(response\u001b[38;5;241m.\u001b[39mget(\u001b[38;5;124m\"\u001b[39m\u001b[38;5;124mvalue\u001b[39m\u001b[38;5;124m\"\u001b[39m, \u001b[38;5;28;01mNone\u001b[39;00m))\n\u001b[0;32m    356\u001b[0m     \u001b[38;5;28;01mreturn\u001b[39;00m response\n",
      "File \u001b[1;32m~\\AppData\\Local\\Packages\\PythonSoftwareFoundation.Python.3.11_qbz5n2kfra8p0\\LocalCache\\local-packages\\Python311\\site-packages\\selenium\\webdriver\\remote\\errorhandler.py:229\u001b[0m, in \u001b[0;36mErrorHandler.check_response\u001b[1;34m(self, response)\u001b[0m\n\u001b[0;32m    227\u001b[0m         alert_text \u001b[38;5;241m=\u001b[39m value[\u001b[38;5;124m\"\u001b[39m\u001b[38;5;124malert\u001b[39m\u001b[38;5;124m\"\u001b[39m]\u001b[38;5;241m.\u001b[39mget(\u001b[38;5;124m\"\u001b[39m\u001b[38;5;124mtext\u001b[39m\u001b[38;5;124m\"\u001b[39m)\n\u001b[0;32m    228\u001b[0m     \u001b[38;5;28;01mraise\u001b[39;00m exception_class(message, screen, stacktrace, alert_text)  \u001b[38;5;66;03m# type: ignore[call-arg]  # mypy is not smart enough here\u001b[39;00m\n\u001b[1;32m--> 229\u001b[0m \u001b[38;5;28;01mraise\u001b[39;00m exception_class(message, screen, stacktrace)\n",
      "\u001b[1;31mNoSuchWindowException\u001b[0m: Message: no such window: target window already closed\nfrom unknown error: web view not found\n  (Session info: chrome=130.0.6723.117)\nStacktrace:\n\tGetHandleVerifier [0x00007FF79B6E3AF5+28005]\n\t(No symbol) [0x00007FF79B6483F0]\n\t(No symbol) [0x00007FF79B4E580A]\n\t(No symbol) [0x00007FF79B4BFA85]\n\t(No symbol) [0x00007FF79B562AD7]\n\t(No symbol) [0x00007FF79B57B1B1]\n\t(No symbol) [0x00007FF79B55B7E3]\n\t(No symbol) [0x00007FF79B5275C8]\n\t(No symbol) [0x00007FF79B528731]\n\tGetHandleVerifier [0x00007FF79B9D646D+3118813]\n\tGetHandleVerifier [0x00007FF79BA26CC0+3448624]\n\tGetHandleVerifier [0x00007FF79BA1CF3D+3408301]\n\tGetHandleVerifier [0x00007FF79B7AA44B+841403]\n\t(No symbol) [0x00007FF79B65344F]\n\t(No symbol) [0x00007FF79B64F4C4]\n\t(No symbol) [0x00007FF79B64F65D]\n\t(No symbol) [0x00007FF79B63EBB9]\n\tBaseThreadInitThunk [0x00007FF9E2F0257D+29]\n\tRtlUserThreadStart [0x00007FF9E3CEAF08+40]\n"
     ]
    }
   ],
   "source": [
    "reset = True\n",
    "while reset:\n",
    "    navegador = fc.abreChromeEdge()\n",
    "    while True:\n",
    "        #INICIA JANELA\n",
    "        try:\n",
    "            fc.iniciaJanela(navegador)\n",
    "            user_name = fc.user_name\n",
    "        #CONDICAO DE ERRO PARA CASO O USUÁRIO ERRE O SEU LOGIN \n",
    "        except Exception:\n",
    "            print('Ocorreu um erro, tente novamente.')\n",
    "        try:\n",
    "            #FECHA ALERTA DO NAVEGADOR\n",
    "            time.sleep(1)\n",
    "            alert = Alert(navegador)\n",
    "            alert.accept()\n",
    "        except:\n",
    "            #ENTRAR NA CAIXA DE PROCESSOS ATRIBUIDOS AO USUARIO\n",
    "            if fc.check_element_exists(By.XPATH,'//*[@id=\"divFiltro\"]/div[2]/a', navegador):\n",
    "                navegador.find_element(By.XPATH,'//*[@id=\"divFiltro\"]/div[2]/a').click()\n",
    "                break\n",
    "            #CASO NAO ENCONTRE O FILTRO DE PROCESSOS ELE INFORMA QUE NAO ENTROU NO SEI\n",
    "            else:\n",
    "                #APAGA O USUÁRIO\n",
    "                navegador.find_element(By.XPATH,'//*[@id=\"txtUsuario\"]').clear()\n",
    "                print('Usuário ou senha incorretos. Digite novamente')\n",
    "    \n",
    "    #PEGA O CORPO DA TABELA NO NAVEGADOR\n",
    "    tbody = navegador.find_element(By.XPATH, '//*[@id=\"tblProcessosRecebidos\"]/tbody')\n",
    "    #PEGA TODAS AS LINHAS (TR) DO CORPO DA TABELA, EXCETO A PRIMEIRA\n",
    "    trs = tbody.find_elements(By.TAG_NAME, 'tr')[1:]\n",
    "\n",
    "    #CRIA UM EXECUTOR DE THREADS\n",
    "    executor = ThreadPoolExecutor()\n",
    "    #APLICA A FUNÇÃO 'PROCESSA_TR' A CADA LINHA (TR) DA TABELA USANDO MULTITHREADING\n",
    "    resultados = list(executor.map(fc.processa_tr, trs))\n",
    "    #AGUARDA TODAS AS THREADS TERMINAREM\n",
    "    executor.shutdown(wait=True)\n",
    "\n",
    "    #CRIA DUAS LISTAS PARA ARMAZENAR OS PROCESSOS QUE SERÃO ANALISADOS E CONCLUÍDOS\n",
    "    lista_processos = [r[0] for r in resultados if not r[1]]\n",
    "    lista_procConformes = [r[0] for r in resultados if r[1] and r[2]]\n",
    "\n",
    "    #INVERTE A ORDEM DOS PROCESSOS NAS LISTAS\n",
    "    lista_processos.reverse()\n",
    "\n",
    "    #IMPRIME A QUANTIDADE DE PROCESSOS QUE SERÃO ANALISADOS E CONCLUÍDOS\n",
    "    print(\"Quantidade de processos para analisar\",len(lista_processos))\n",
    "    print(\"Quantidade de processos para concluir\", len(lista_procConformes))"
   ]
  }
 ],
 "metadata": {
  "kernelspec": {
   "display_name": "Python 3",
   "language": "python",
   "name": "python3"
  },
  "language_info": {
   "codemirror_mode": {
    "name": "ipython",
    "version": 3
   },
   "file_extension": ".py",
   "mimetype": "text/x-python",
   "name": "python",
   "nbconvert_exporter": "python",
   "pygments_lexer": "ipython3",
   "version": "3.11.9"
  }
 },
 "nbformat": 4,
 "nbformat_minor": 2
}
