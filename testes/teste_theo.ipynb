{
 "cells": [
  {
   "cell_type": "code",
   "execution_count": 42,
   "metadata": {},
   "outputs": [],
   "source": [
    "import numpy as np\n",
    "import pandas as pd\n",
    "import time\n",
    "import tkinter as tk\n",
    "from openpyxl import load_workbook\n",
    "import undetected_chromedriver as uc\n",
    "from selenium.webdriver.chrome.service import Service\n",
    "from selenium.webdriver.common.alert import Alert\n",
    "from selenium.webdriver.common.by import By\n",
    "from selenium.webdriver.common.keys import Keys\n",
    "from selenium.webdriver.support.ui import Select\n",
    "from selenium.common.exceptions import NoSuchElementException\n",
    "from tabulate import tabulate\n",
    "from webdriver_manager.chrome import ChromeDriverManager\n",
    "servico = Service(ChromeDriverManager().install())\n",
    "import funcoes as fc\n",
    "import pyautogui"
   ]
  },
  {
   "cell_type": "code",
   "execution_count": 2,
   "metadata": {},
   "outputs": [
    {
     "name": "stdout",
     "output_type": "stream",
     "text": [
      "True\n"
     ]
    }
   ],
   "source": [
    "import os\n",
    "print(os.path.exists('imagensAut/edge.png'))"
   ]
  },
  {
   "cell_type": "code",
   "execution_count": 25,
   "metadata": {},
   "outputs": [],
   "source": [
    "def verifica_conformidade(modelos, tabela_modelos, num):\n",
    "    # Inicializa a lista com False\n",
    "    checkexcel = [False] * len(modelos)\n",
    "\n",
    "    # Comparação de modelos\n",
    "    for modelo_solicitante in range(len(modelos)):\n",
    "        for j in range(len(tabela_modelos)):\n",
    "            try:\n",
    "                if num == 0:\n",
    "                    if str(modelos[modelo_solicitante]).lower().replace(' ','').strip('\\n') == str(tabela_modelos[j]).lower().replace(' ',''):\n",
    "                        checkexcel[modelo_solicitante] = True\n",
    "                        break\n",
    "                elif num == 1:\n",
    "                    if str(modelos[modelo_solicitante]).lower().replace(' ','').replace('-','').strip('\\n') == str(tabela_modelos[j]).lower().replace(' ','').replace('-',''):\n",
    "                        checkexcel[modelo_solicitante] = True\n",
    "                        break\n",
    "            except KeyError as e:\n",
    "                print(f\"Erro ao acessar os índices: {e}\")\n",
    "                continue\n",
    "    return checkexcel\n",
    "\n",
    "\n",
    "def corrige_planilha(planilha):\n",
    "    tabela = pd.read_excel(planilha, usecols=[2,3])\n",
    "    tabela.columns = tabela.iloc[1]\n",
    "    tabela = tabela.iloc[2:]\n",
    "    tabela = tabela.reset_index(drop=True)\n",
    "    return tabela"
   ]
  },
  {
   "cell_type": "code",
   "execution_count": 4,
   "metadata": {},
   "outputs": [],
   "source": [
    "#INICIA O NAVEGADOR\n",
    "navegador = uc.Chrome(service=servico)\n",
    "navegador.maximize_window()\n",
    "navegador.get('https://sei.anatel.gov.br/')\n"
   ]
  },
  {
   "cell_type": "code",
   "execution_count": 41,
   "metadata": {},
   "outputs": [
    {
     "name": "stdout",
     "output_type": "stream",
     "text": [
      "+--------+----------------+-----------------------------------------------------+\n",
      "| Modelo | Nome Comercial | Número de Série (incluindo rádio controle e óculos) |\n",
      "+--------+----------------+-----------------------------------------------------+\n",
      "| MT2PD  |     MINI 2     |                   3Q4SHAK003063W                    |\n",
      "| RC231  |       C5       |                   3QDSHAJ00303DR                    |\n",
      "+--------+----------------+-----------------------------------------------------+\n",
      "\n",
      "\n",
      "O modelo 'MT2PD' está na lista de drones conformes. Seu nome comercial é 'MINI 2'\n",
      "O modelo 'RC231' está na lista de drones conformes. Seu nome comercial é 'C5'\n",
      "\n",
      "\n"
     ]
    }
   ],
   "source": [
    "planilhaDrones = r\"C:\\Users\\theo.estagio\\ANATEL\\ORCN - Drones\\Lista de Drones Anatel_Corrigida.xlsx\"\n",
    "tabela_modelos = corrige_planilha(planilhaDrones)\n",
    "navegador.switch_to.default_content()\n",
    "navegador.switch_to.frame('ifrVisualizacao')\n",
    "navegador.switch_to.frame('ifrArvoreHtml')\n",
    "quantidade_linhas = len(navegador.find_elements(By.XPATH, '/html/body/table[3]/tbody/tr'))\n",
    "\n",
    "#ARMAZENA OS MODELOS INFORMADOS PARA VERIFICAR SE ESTÃO NA PLANILHA DE DRONES CONFORMES\n",
    "modelos = []\n",
    "for i in range(1, quantidade_linhas, 1):\n",
    "    linha = navegador.find_element('xpath', f'/html/body/table[3]/tbody/tr[{i}]')\n",
    "    celulas = linha.find_elements(By.TAG_NAME,'td')\n",
    "    modelos_produto = [celula.text for celula in celulas]\n",
    "    modelos.append(modelos_produto)\n",
    "\n",
    "#CRIA DATAFRAME PARA PRINTAR AS INFORMAÇÕES DO PRODUTO JÁ TRATADAS\n",
    "df = pd.DataFrame(modelos)\n",
    "\n",
    "df.columns = ['Modelo', 'Nome Comercial', 'Número de Série (incluindo rádio controle e óculos)']\n",
    "df = df[1:]\n",
    "df = df.replace(' ', np.nan)\n",
    "df = df.dropna(how='all')\n",
    "data = df.values.tolist()\n",
    "headers = df.columns.tolist()\n",
    "print(tabulate(data, headers=headers, tablefmt='pretty'))\n",
    "print('\\n')\n",
    "\n",
    "#VERIFICA SE O MODELO DO DRONE E RADIO CONTROLE ESTA NA PLANILHA DE DRONES CONFORMES\n",
    "modelos = df['Modelo']\n",
    "modelos = modelos.reset_index(drop=True)\n",
    "tabela_modelos['MODELO_CORRIGIDO'] = tabela_modelos['MODELO'].apply(lambda x: str(x).lower().replace(' ', '').replace('-', ''))\n",
    "for mod in modelos:\n",
    "    mod2 = mod.lower().replace(' ','').replace('-','').strip('\\n')\n",
    "    if mod2 in tabela_modelos['MODELO_CORRIGIDO'].values:\n",
    "        linha_nome = tabela_modelos['MODELO_CORRIGIDO'] == mod2\n",
    "        nome_comercial = tabela_modelos.loc[linha_nome, 'NOME COMERCIAL'].values[0]\n",
    "        print(f\"O modelo '{mod}' está na lista de drones conformes. Seu nome comercial é '{nome_comercial}'\")\n",
    "    else:\n",
    "        print(f\"O modelo '{mod}' não se encontra na lista de drones conformes\")\n",
    "print('\\n')"
   ]
  },
  {
   "cell_type": "code",
   "execution_count": 5,
   "metadata": {},
   "outputs": [],
   "source": [
    "while True:\n",
    "    try:\n",
    "        exig = int(input(\"Opção: \"))\n",
    "    except ValueError:\n",
    "        print(\"Opção inválida. Digite um número inteiro.\")\n",
    "        continue\n",
    "    if exig in range(1, 10):\n",
    "        if exig == 1:\n",
    "            pass\n",
    "        elif exig == 2:\n",
    "            pass\n",
    "        elif exig == 3:\n",
    "            pass\n",
    "        elif exig == 4:\n",
    "            pass\n",
    "        elif exig == 5:\n",
    "            pass\n",
    "        elif exig == 6:\n",
    "            pass\n",
    "        elif exig == 7:\n",
    "            pass\n",
    "        elif exig == 8:\n",
    "            pass\n",
    "        elif exig == 9:\n",
    "            pass\n",
    "        break\n",
    "    else:\n",
    "        print(\"Opção inválida. Tente novamente.\")\n",
    "        "
   ]
  },
  {
   "cell_type": "code",
   "execution_count": 3,
   "metadata": {},
   "outputs": [
    {
     "name": "stdout",
     "output_type": "stream",
     "text": [
      "Prezado(a) Senhor(a),\n",
      "\n",
      "Em atenção ao pedido de homologação constante do processo SEI em referência, informamos que:\n",
      "\n",
      "1. O pedido foi APROVADO\n",
      "2. O Despacho Decisório que aprovou o pedido está disponível publicamente por meio do sistema SEI na área de Pesquisa Pública, no link:\n",
      "\n",
      "        https://sei.anatel.gov.br/sei/modulos/pesquisa/md_pesq_processo_pesquisar.php?acao_externa=protocolo_pesquisar&acao_origem_externa=protocolo_pesquisar&id_orgao_acesso_externo=0\n",
      "\n",
      "\n",
      "3. O Despacho Decisório deverá ser portado junto ao Equipamento (fisicamente ou eletronicamente), para que as autoridades competentes possam conferir a regularidade, quando necessário.\n",
      "\n",
      "FAVOR NÃO RESPONDER ESTE E-MAIL.\n",
      "\n",
      "Atenciosamente,\n",
      "\n",
      "ORCN - Gerência de Certificação e Numeração\n",
      "\n",
      "SOR - Superintendência de Outorga e Recursos à Prestação\n",
      "\n",
      "Anatel - Agência Nacional de Telecomunicações\n"
     ]
    }
   ],
   "source": [
    "textoNaoRetido = '''Prezado(a) Senhor(a),\n",
    "\n",
    "Em atenção ao pedido de homologação constante do processo SEI em referência, informamos que:\n",
    "\n",
    "1. O pedido foi APROVADO\n",
    "2. O Despacho Decisório que aprovou o pedido está disponível publicamente por meio do sistema SEI na área de Pesquisa Pública, no link:\n",
    "\n",
    "        https://sei.anatel.gov.br/sei/modulos/pesquisa/md_pesq_processo_pesquisar.php?acao_externa=protocolo_pesquisar&acao_origem_externa=protocolo_pesquisar&id_orgao_acesso_externo=0\n",
    "\n",
    "\n",
    "3. O Despacho Decisório deverá ser portado junto ao Equipamento (fisicamente ou eletronicamente), para que as autoridades competentes possam conferir a regularidade, quando necessário.\n",
    "\n",
    "FAVOR NÃO RESPONDER ESTE E-MAIL.\n",
    "\n",
    "Atenciosamente,\n",
    "\n",
    "ORCN - Gerência de Certificação e Numeração\n",
    "\n",
    "SOR - Superintendência de Outorga e Recursos à Prestação\n",
    "\n",
    "Anatel - Agência Nacional de Telecomunicações'''\n",
    "\n",
    "print(textoNaoRetido)\n"
   ]
  },
  {
   "cell_type": "code",
   "execution_count": 3,
   "metadata": {},
   "outputs": [],
   "source": [
    "processosAssinados = '53500.039531/2024-01'\n",
    "\n",
    "with open('processosConformes.txt', 'r') as file:\n",
    "                            lines = file.readlines()\n",
    "\n",
    "with open('processosConformes.txt', 'w') as file:\n",
    "    for line in lines:\n",
    "        if line.strip() != processosAssinados.strip():\n",
    "            file.write(line)\n",
    "            "
   ]
  },
  {
   "cell_type": "code",
   "execution_count": 19,
   "metadata": {},
   "outputs": [
    {
     "name": "stdout",
     "output_type": "stream",
     "text": [
      "27\n"
     ]
    }
   ],
   "source": [
    "hour = datetime.now()\n",
    "\n",
    "print(hour.day)\n"
   ]
  },
  {
   "cell_type": "code",
   "execution_count": 10,
   "metadata": {},
   "outputs": [
    {
     "ename": "ModuleNotFoundError",
     "evalue": "No module named 'tabulate'",
     "output_type": "error",
     "traceback": [
      "\u001b[1;31m---------------------------------------------------------------------------\u001b[0m",
      "\u001b[1;31mModuleNotFoundError\u001b[0m                       Traceback (most recent call last)",
      "Cell \u001b[1;32mIn[10], line 1\u001b[0m\n\u001b[1;32m----> 1\u001b[0m \u001b[38;5;28;01mfrom\u001b[39;00m \u001b[38;5;21;01mtabulate\u001b[39;00m \u001b[38;5;28;01mimport\u001b[39;00m tabulate\n\u001b[0;32m      3\u001b[0m \u001b[38;5;66;03m# Seu código existente\u001b[39;00m\n\u001b[0;32m      4\u001b[0m tabela \u001b[38;5;241m=\u001b[39m pd\u001b[38;5;241m.\u001b[39mread_excel(\u001b[38;5;124m\"\u001b[39m\u001b[38;5;124mC:/Users/theo.estagio/ANATEL/ORCN - Drones/Lista de Drones Anatel_Corrigida.xlsx\u001b[39m\u001b[38;5;124m\"\u001b[39m)\n",
      "\u001b[1;31mModuleNotFoundError\u001b[0m: No module named 'tabulate'"
     ]
    }
   ],
   "source": [
    "from tabulate import tabulate\n",
    "\n",
    "# Seu código existente\n",
    "tabela = pd.read_excel(\"C:/Users/theo.estagio/ANATEL/ORCN - Drones/Lista de Drones Anatel_Corrigida.xlsx\")\n",
    "tabela.columns = tabela.iloc[1]\n",
    "tabela = tabela.iloc[2:]# Cria uma nova lista de cabeçalhos\n",
    "tabela = tabela.reset_index(drop=True)\n",
    "\n",
    "# Converte o DataFrame para uma lista de listas\n",
    "data = tabela.values.tolist()\n",
    "\n",
    "# Obtém os cabeçalhos das colunas como uma lista\n",
    "headers = tabela.columns.tolist()\n",
    "\n",
    "# Usa tabulate para imprimir a tabela\n",
    "print(tabulate(data, headers=headers, tablefmt='pretty'))"
   ]
  },
  {
   "cell_type": "code",
   "execution_count": 9,
   "metadata": {},
   "outputs": [
    {
     "name": "stdout",
     "output_type": "stream",
     "text": [
      "Texto final:\n",
      "dasda\n",
      "dsadas\n",
      "dsadas\n",
      "sadasd\n",
      "asdasdasdawd\n",
      "sdasdx\n",
      "czxczxca\n",
      "sqweqwesad\n",
      "sadasczxzxv\n",
      "asdagdg\n",
      "gsdfsfsdf\n",
      "\n"
     ]
    }
   ],
   "source": [
    "from tkinter import scrolledtext\n",
    "\n",
    "def get_text():\n",
    "    global texto_exigencia\n",
    "    texto_exigencia = text_area.get(\"1.0\", tk.END)\n",
    "    root.destroy()\n",
    "\n",
    "# Inicializa a variável global\n",
    "texto_exigencia = \"\"\n",
    "\n",
    "# Cria a janela principal\n",
    "root = tk.Tk()\n",
    "root.title(\"Inserir Texto de Exigência\")\n",
    "\n",
    "# Cria uma área de texto com barra de rolagem\n",
    "text_area = scrolledtext.ScrolledText(root, wrap=tk.WORD, width=80, height=20)\n",
    "text_area.pack(padx=10, pady=10)\n",
    "\n",
    "# Cria um botão para obter o texto\n",
    "btn_get_text = tk.Button(root, text=\"Obter Texto\", command=get_text)\n",
    "btn_get_text.pack(pady=5)\n",
    "\n",
    "# Inicia o loop principal da interface gráfica\n",
    "root.mainloop()\n",
    "\n",
    "# Agora você pode usar a variável texto_exigencia\n",
    "print(\"Texto final:\")\n",
    "print(texto_exigencia)\n"
   ]
  },
  {
   "cell_type": "code",
   "execution_count": 1,
   "metadata": {},
   "outputs": [
    {
     "data": {
      "text/plain": [
       "Point(x=706, y=778)"
      ]
     },
     "execution_count": 1,
     "metadata": {},
     "output_type": "execute_result"
    }
   ],
   "source": [
    "import pyautogui\n",
    "\n",
    "pyautogui.position()"
   ]
  },
  {
   "cell_type": "code",
   "execution_count": 1,
   "metadata": {},
   "outputs": [
    {
     "name": "stdout",
     "output_type": "stream",
     "text": [
      "Nome sem acentos: Lukas Araujo\n"
     ]
    }
   ],
   "source": [
    "import unidecode\n",
    "\n",
    "# Solicita o nome completo ao usuário\n",
    "nomeEstag = input('Insira seu nome completo: ')\n",
    "\n",
    "# Remove os acentos do nome\n",
    "nomeEstag_sem_acentos = unidecode.unidecode(nomeEstag)\n",
    "\n",
    "# Exibe o nome sem acentos\n",
    "print('Nome sem acentos:', nomeEstag_sem_acentos)"
   ]
  }
 ],
 "metadata": {
  "kernelspec": {
   "display_name": "Python 3",
   "language": "python",
   "name": "python3"
  },
  "language_info": {
   "codemirror_mode": {
    "name": "ipython",
    "version": 3
   },
   "file_extension": ".py",
   "mimetype": "text/x-python",
   "name": "python",
   "nbconvert_exporter": "python",
   "pygments_lexer": "ipython3",
   "version": "3.12.3"
  }
 },
 "nbformat": 4,
 "nbformat_minor": 2
}
